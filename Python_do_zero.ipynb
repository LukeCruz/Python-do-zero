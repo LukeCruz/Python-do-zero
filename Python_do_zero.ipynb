{
  "nbformat": 4,
  "nbformat_minor": 0,
  "metadata": {
    "colab": {
      "provenance": [],
      "toc_visible": true,
      "authorship_tag": "ABX9TyPmhOrDYqF3pM0VTW3LkC2x",
      "include_colab_link": true
    },
    "kernelspec": {
      "name": "python3",
      "display_name": "Python 3"
    },
    "language_info": {
      "name": "python"
    }
  },
  "cells": [
    {
      "cell_type": "markdown",
      "metadata": {
        "id": "view-in-github",
        "colab_type": "text"
      },
      "source": [
        "<a href=\"https://colab.research.google.com/github/LukeCruz/Python-do-zero-/blob/master/Python_do_zero.ipynb\" target=\"_parent\"><img src=\"https://colab.research.google.com/assets/colab-badge.svg\" alt=\"Open In Colab\"/></a>"
      ]
    },
    {
      "cell_type": "markdown",
      "source": [
        "\n",
        "\n",
        "# Variáveis"
      ],
      "metadata": {
        "id": "TvUXzvbihDUG"
      }
    },
    {
      "cell_type": "markdown",
      "source": [
        "O que são variáveis ? variáveis são itens mutáveis ou não , que são declarações feitas para se 'guardar' uma informação . como por exemplo o nome de uma pessoa."
      ],
      "metadata": {
        "id": "Xp--WgWrhPzu"
      }
    },
    {
      "cell_type": "code",
      "source": [
        "meuNome = 'Lucas'"
      ],
      "metadata": {
        "id": "HoXm_GrUjb9B"
      },
      "execution_count": 61,
      "outputs": []
    },
    {
      "cell_type": "markdown",
      "source": [
        "**Como criar variaveis no python**"
      ],
      "metadata": {
        "id": "hgEpESvvUTTq"
      }
    },
    {
      "cell_type": "markdown",
      "source": [
        "Exitem diversas formas no Python de declarar uma variável ⭐"
      ],
      "metadata": {
        "id": "W_8v6AGgUlQM"
      }
    },
    {
      "cell_type": "code",
      "source": [
        "variavel = 'olá mundo !'\n"
      ],
      "metadata": {
        "id": "2ybnC6jZqpAy"
      },
      "execution_count": 77,
      "outputs": []
    },
    {
      "cell_type": "markdown",
      "source": [
        "Declaração de uma variável"
      ],
      "metadata": {
        "id": "b8c7dgCvq1E4"
      }
    },
    {
      "cell_type": "code",
      "source": [
        "variavel"
      ],
      "metadata": {
        "colab": {
          "base_uri": "https://localhost:8080/",
          "height": 35
        },
        "id": "ue84wKnTqqXj",
        "outputId": "403472ea-849f-4916-fd38-0bebfcec8c11"
      },
      "execution_count": 78,
      "outputs": [
        {
          "output_type": "execute_result",
          "data": {
            "text/plain": [
              "'olá mundo !'"
            ],
            "application/vnd.google.colaboratory.intrinsic+json": {
              "type": "string"
            }
          },
          "metadata": {},
          "execution_count": 78
        }
      ]
    },
    {
      "cell_type": "markdown",
      "source": [
        "Declação de variáveis distintas"
      ],
      "metadata": {
        "id": "_sLBsr-hrBjH"
      }
    },
    {
      "cell_type": "code",
      "source": [
        "var4 = 4\n",
        "var5 = 5"
      ],
      "metadata": {
        "id": "yK6JZgj2rFKz"
      },
      "execution_count": 83,
      "outputs": []
    },
    {
      "cell_type": "markdown",
      "source": [
        "declaração de mais de uma variável ao mesmo tempo"
      ],
      "metadata": {
        "id": "s7KqbYuaq4pB"
      }
    },
    {
      "cell_type": "code",
      "source": [
        "var1,var2,var3 = 1,2,3"
      ],
      "metadata": {
        "id": "EsXD3ZOrqtWP"
      },
      "execution_count": 79,
      "outputs": []
    },
    {
      "cell_type": "code",
      "source": [
        "var1"
      ],
      "metadata": {
        "colab": {
          "base_uri": "https://localhost:8080/"
        },
        "id": "BYajgmniqtZG",
        "outputId": "efc87405-0bb9-4765-a3c0-d441e5d63ab4"
      },
      "execution_count": 80,
      "outputs": [
        {
          "output_type": "execute_result",
          "data": {
            "text/plain": [
              "1"
            ]
          },
          "metadata": {},
          "execution_count": 80
        }
      ]
    },
    {
      "cell_type": "code",
      "source": [
        "var2"
      ],
      "metadata": {
        "colab": {
          "base_uri": "https://localhost:8080/"
        },
        "id": "I-0QKdCsqtbi",
        "outputId": "483d620c-7ff7-4c9c-eebe-be24cb20f620"
      },
      "execution_count": 81,
      "outputs": [
        {
          "output_type": "execute_result",
          "data": {
            "text/plain": [
              "2"
            ]
          },
          "metadata": {},
          "execution_count": 81
        }
      ]
    },
    {
      "cell_type": "code",
      "source": [
        "var3"
      ],
      "metadata": {
        "colab": {
          "base_uri": "https://localhost:8080/"
        },
        "id": "Pfmeq6IDqteF",
        "outputId": "765d7e45-7fb1-44e3-b49b-9761e2fd9a2a"
      },
      "execution_count": 82,
      "outputs": [
        {
          "output_type": "execute_result",
          "data": {
            "text/plain": [
              "3"
            ]
          },
          "metadata": {},
          "execution_count": 82
        }
      ]
    },
    {
      "cell_type": "markdown",
      "source": [
        "Existem diversos **tipos** de variáveis que podemos declarar \n",
        "\n",
        " * Inteiro - int\n",
        " * ponto flutuante - float\n",
        " * Texto - String\n",
        " * Lista - List\n",
        " * Tupla - Tuple\n",
        " * sets - sets"
      ],
      "metadata": {
        "id": "4CN9QmDyndhv"
      }
    },
    {
      "cell_type": "markdown",
      "source": [
        "Para exibirmos o tipo de uma variável utilizamos o metodo **type()**"
      ],
      "metadata": {
        "id": "zdCfLO12vYBM"
      }
    },
    {
      "cell_type": "code",
      "source": [
        "tipoA = [1,2,3]\n",
        "tipoB = 1\n",
        "tipoC = .1\n",
        "tipoD = '1'\n",
        "tipoE = (1,2,3)\n",
        "tipoF = {1,2,3}"
      ],
      "metadata": {
        "id": "gK123mhineo2"
      },
      "execution_count": 96,
      "outputs": []
    },
    {
      "cell_type": "markdown",
      "source": [
        "##**list** \n",
        "(lista),  pode ser escrita como uma lista de valores (itens) separados por vírgula, entre colchetes. Os valores contidos na lista não precisam ser todos do mesmo tipo."
      ],
      "metadata": {
        "id": "yHCxrGRevxld"
      }
    },
    {
      "cell_type": "code",
      "source": [
        "type(tipoA)"
      ],
      "metadata": {
        "colab": {
          "base_uri": "https://localhost:8080/"
        },
        "id": "1spL-RqNn2hl",
        "outputId": "a580aa95-85f4-4ff9-dd8a-efe9432407f0"
      },
      "execution_count": 97,
      "outputs": [
        {
          "output_type": "execute_result",
          "data": {
            "text/plain": [
              "list"
            ]
          },
          "metadata": {},
          "execution_count": 97
        }
      ]
    },
    {
      "cell_type": "markdown",
      "source": [
        "##Int \n",
        "- numeros inteiros"
      ],
      "metadata": {
        "id": "yh-y3Mv5wCAJ"
      }
    },
    {
      "cell_type": "code",
      "source": [
        "type(tipoB)"
      ],
      "metadata": {
        "colab": {
          "base_uri": "https://localhost:8080/"
        },
        "id": "V-sFhjxDnz5I",
        "outputId": "31603faf-d9f4-40fb-91fa-dd00b9f3b1f2"
      },
      "execution_count": 90,
      "outputs": [
        {
          "output_type": "execute_result",
          "data": {
            "text/plain": [
              "int"
            ]
          },
          "metadata": {},
          "execution_count": 90
        }
      ]
    },
    {
      "cell_type": "markdown",
      "source": [
        "##Float \n",
        "- numeros com ponto flutuante \n",
        "  exemplo : 1,2233"
      ],
      "metadata": {
        "id": "HgXU4uEXwITY"
      }
    },
    {
      "cell_type": "code",
      "source": [
        "type(tipoC)"
      ],
      "metadata": {
        "colab": {
          "base_uri": "https://localhost:8080/"
        },
        "id": "OadVVWxZn06P",
        "outputId": "7a993f4c-3b3d-46e8-cabc-806407e995ec"
      },
      "execution_count": 91,
      "outputs": [
        {
          "output_type": "execute_result",
          "data": {
            "text/plain": [
              "float"
            ]
          },
          "metadata": {},
          "execution_count": 91
        }
      ]
    },
    {
      "cell_type": "markdown",
      "source": [
        "##string \n",
        "- Do tipo texto "
      ],
      "metadata": {
        "id": "mAGXWi27wP0k"
      }
    },
    {
      "cell_type": "code",
      "source": [
        "type(tipoD)"
      ],
      "metadata": {
        "colab": {
          "base_uri": "https://localhost:8080/"
        },
        "id": "HM2EqNuAnsZz",
        "outputId": "6e37670e-0e0c-43b4-aad1-ea5ec1be0298"
      },
      "execution_count": 92,
      "outputs": [
        {
          "output_type": "execute_result",
          "data": {
            "text/plain": [
              "str"
            ]
          },
          "metadata": {},
          "execution_count": 92
        }
      ]
    },
    {
      "cell_type": "markdown",
      "source": [
        "##Tuple \n",
        "- uma sequência de valores separados por virgula"
      ],
      "metadata": {
        "id": "Hz32hCjbwWJu"
      }
    },
    {
      "cell_type": "code",
      "source": [
        "type(tipoE)"
      ],
      "metadata": {
        "colab": {
          "base_uri": "https://localhost:8080/"
        },
        "id": "hdbbYmqFn41O",
        "outputId": "530021a1-bfc7-4e5a-cbce-9ede7d46e257"
      },
      "execution_count": 95,
      "outputs": [
        {
          "output_type": "execute_result",
          "data": {
            "text/plain": [
              "tuple"
            ]
          },
          "metadata": {},
          "execution_count": 95
        }
      ]
    },
    {
      "cell_type": "markdown",
      "source": [
        "##Set\n",
        "\n",
        "Python também inclui um tipo de dados para conjuntos, chamado set. Um conjunto é uma coleção desordenada de elementos, sem elementos repetidos. Usos comuns para conjuntos incluem a verificação eficiente da existência de objetos e a eliminação de itens duplicados. Conjuntos também suportam operações matemáticas como união, interseção, diferença e diferença simétrica.\n",
        "\n",
        "Chaves ou a função set() podem ser usados para criar conjuntos. Note: para criar um conjunto vazio você precisa usar set(), não {}; este último cria um dicionário vazio."
      ],
      "metadata": {
        "id": "klyWnD0MwVod"
      }
    },
    {
      "cell_type": "code",
      "source": [
        "type(tipoF)"
      ],
      "metadata": {
        "colab": {
          "base_uri": "https://localhost:8080/"
        },
        "id": "ER-5N2W9vRUt",
        "outputId": "4d31ea07-fd5b-4bb5-d3ce-eaf47c45ca78"
      },
      "execution_count": 86,
      "outputs": [
        {
          "output_type": "execute_result",
          "data": {
            "text/plain": [
              "set"
            ]
          },
          "metadata": {},
          "execution_count": 86
        }
      ]
    },
    {
      "cell_type": "code",
      "source": [
        "setting = {1,1,1,2,3,4,5,6,6,4,3}"
      ],
      "metadata": {
        "id": "XrSxC645xYC2"
      },
      "execution_count": 98,
      "outputs": []
    },
    {
      "cell_type": "code",
      "source": [
        "setting"
      ],
      "metadata": {
        "colab": {
          "base_uri": "https://localhost:8080/"
        },
        "id": "IoVXMG3-xi8W",
        "outputId": "602eb516-3edb-4534-da59-480712b8c780"
      },
      "execution_count": 99,
      "outputs": [
        {
          "output_type": "execute_result",
          "data": {
            "text/plain": [
              "{1, 2, 3, 4, 5, 6}"
            ]
          },
          "metadata": {},
          "execution_count": 99
        }
      ]
    },
    {
      "cell_type": "markdown",
      "source": [
        "Python é uma linguagem **tipada**, ou seja, você não precisa necessariamente declarar o tipo de uma variavel."
      ],
      "metadata": {
        "id": "2Pfh0BFGc2vm"
      }
    },
    {
      "cell_type": "code",
      "source": [
        "ab = '1'\n",
        "a,b,c = 2,2,3\n"
      ],
      "metadata": {
        "id": "2SRPkIMfUZwh"
      },
      "execution_count": 66,
      "outputs": []
    },
    {
      "cell_type": "code",
      "source": [
        "type(ab)\n"
      ],
      "metadata": {
        "colab": {
          "base_uri": "https://localhost:8080/"
        },
        "id": "Yj_Xx7vJdCA2",
        "outputId": "bf574af3-0390-4dc1-8497-f7f138249ede"
      },
      "execution_count": 22,
      "outputs": [
        {
          "output_type": "execute_result",
          "data": {
            "text/plain": [
              "str"
            ]
          },
          "metadata": {},
          "execution_count": 22
        }
      ]
    },
    {
      "cell_type": "markdown",
      "source": [
        "**LISTAS** - Listas são aglomerados de itens ou variaveis dentro de um 'espaço' \n",
        "  Por exemplo , uma sequência de numeros dentro de uma mesma variavel declarada se torna uma lista."
      ],
      "metadata": {
        "id": "vFrZjwvji--w"
      }
    },
    {
      "cell_type": "code",
      "source": [
        "lista = [1,2,3,4,5,6];\n",
        "  \n",
        "display(lista)"
      ],
      "metadata": {
        "colab": {
          "base_uri": "https://localhost:8080/",
          "height": 34
        },
        "id": "TgQPKJnNeEzE",
        "outputId": "556bbde5-51ba-405c-fb4f-9de2755d2c94"
      },
      "execution_count": 60,
      "outputs": [
        {
          "output_type": "display_data",
          "data": {
            "text/plain": [
              "[1, 2, 3, 4, 5, 6]"
            ]
          },
          "metadata": {}
        }
      ]
    },
    {
      "cell_type": "markdown",
      "source": [
        "#**Operações matemáticas**"
      ],
      "metadata": {
        "id": "XyjAwtgBeDLu"
      }
    },
    {
      "cell_type": "code",
      "source": [
        "variavelA = 1\n",
        "variavelB = 3"
      ],
      "metadata": {
        "id": "vSMJCOpEeLo2"
      },
      "execution_count": 45,
      "outputs": []
    },
    {
      "cell_type": "markdown",
      "source": [
        "##SOMA"
      ],
      "metadata": {
        "id": "TZQwfOglfZey"
      }
    },
    {
      "cell_type": "code",
      "source": [
        "variavelA + variavelB"
      ],
      "metadata": {
        "colab": {
          "base_uri": "https://localhost:8080/"
        },
        "id": "qg2Hv1saeZxI",
        "outputId": "2acc3dec-0bb1-4c83-d46a-0740512c3162"
      },
      "execution_count": 46,
      "outputs": [
        {
          "output_type": "execute_result",
          "data": {
            "text/plain": [
              "4"
            ]
          },
          "metadata": {},
          "execution_count": 46
        }
      ]
    },
    {
      "cell_type": "code",
      "source": [
        "variavelC =  variavelA + variavelB"
      ],
      "metadata": {
        "id": "iiCLozBJefN4"
      },
      "execution_count": 48,
      "outputs": []
    },
    {
      "cell_type": "code",
      "source": [
        "variavelC"
      ],
      "metadata": {
        "colab": {
          "base_uri": "https://localhost:8080/"
        },
        "id": "Bfj304zZefQa",
        "outputId": "0d72a666-ca1f-4b86-a79c-f61f6ceb1618"
      },
      "execution_count": 49,
      "outputs": [
        {
          "output_type": "execute_result",
          "data": {
            "text/plain": [
              "4"
            ]
          },
          "metadata": {},
          "execution_count": 49
        }
      ]
    },
    {
      "cell_type": "markdown",
      "source": [
        "##SUBTRAÇÃO"
      ],
      "metadata": {
        "id": "Kg7Xyw4ofcLu"
      }
    },
    {
      "cell_type": "code",
      "source": [
        "  variavelA - variavelB"
      ],
      "metadata": {
        "colab": {
          "base_uri": "https://localhost:8080/"
        },
        "id": "3XDnQcTSefUU",
        "outputId": "9065eb99-7964-4fd1-a3bd-1282514acbc3"
      },
      "execution_count": 51,
      "outputs": [
        {
          "output_type": "execute_result",
          "data": {
            "text/plain": [
              "1"
            ]
          },
          "metadata": {},
          "execution_count": 51
        }
      ]
    },
    {
      "cell_type": "code",
      "source": [
        "variavelD =  variavelA - variavelB"
      ],
      "metadata": {
        "id": "IL3uTXzhfJUn"
      },
      "execution_count": 52,
      "outputs": []
    },
    {
      "cell_type": "code",
      "source": [
        "variavelD"
      ],
      "metadata": {
        "colab": {
          "base_uri": "https://localhost:8080/"
        },
        "id": "2dh6-_BVfTcj",
        "outputId": "e21fc057-28f4-4a84-9382-58bc84790f7d"
      },
      "execution_count": 53,
      "outputs": [
        {
          "output_type": "execute_result",
          "data": {
            "text/plain": [
              "1"
            ]
          },
          "metadata": {},
          "execution_count": 53
        }
      ]
    },
    {
      "cell_type": "markdown",
      "source": [
        "##MULTIPLICAÇÃO"
      ],
      "metadata": {
        "id": "_Nkpsg3JffhY"
      }
    },
    {
      "cell_type": "code",
      "source": [
        "  variavelA * variavelB"
      ],
      "metadata": {
        "colab": {
          "base_uri": "https://localhost:8080/"
        },
        "id": "l8bzEhwtfhIV",
        "outputId": "72a03c1d-b291-43f1-d51a-604fa7cabcbc"
      },
      "execution_count": 54,
      "outputs": [
        {
          "output_type": "execute_result",
          "data": {
            "text/plain": [
              "12"
            ]
          },
          "metadata": {},
          "execution_count": 54
        }
      ]
    },
    {
      "cell_type": "markdown",
      "source": [
        "##DIVISÃO"
      ],
      "metadata": {
        "id": "t6kLtz4QfnJc"
      }
    },
    {
      "cell_type": "code",
      "source": [
        "  variavelA / variavelB"
      ],
      "metadata": {
        "colab": {
          "base_uri": "https://localhost:8080/"
        },
        "id": "qxHrXj-efozL",
        "outputId": "6ee18286-1127-4e8c-de4d-2e049330eb8f"
      },
      "execution_count": 55,
      "outputs": [
        {
          "output_type": "execute_result",
          "data": {
            "text/plain": [
              "1.3333333333333333"
            ]
          },
          "metadata": {},
          "execution_count": 55
        }
      ]
    },
    {
      "cell_type": "markdown",
      "source": [
        "##Divisão com resto inteiro"
      ],
      "metadata": {
        "id": "fpUkYLZmfxA2"
      }
    },
    {
      "cell_type": "code",
      "source": [
        "  variavelA // variavelB"
      ],
      "metadata": {
        "colab": {
          "base_uri": "https://localhost:8080/"
        },
        "id": "Gg3GdcvFf1QA",
        "outputId": "122dee09-a3b9-4a93-89a3-bf2e8c2fb139"
      },
      "execution_count": 56,
      "outputs": [
        {
          "output_type": "execute_result",
          "data": {
            "text/plain": [
              "1"
            ]
          },
          "metadata": {},
          "execution_count": 56
        }
      ]
    },
    {
      "cell_type": "code",
      "source": [
        "  variavelA % variavelB"
      ],
      "metadata": {
        "colab": {
          "base_uri": "https://localhost:8080/"
        },
        "id": "8qn4cL7zgAjL",
        "outputId": "57d04573-6003-4489-832c-5c4cbda6a13a"
      },
      "execution_count": 57,
      "outputs": [
        {
          "output_type": "execute_result",
          "data": {
            "text/plain": [
              "1"
            ]
          },
          "metadata": {},
          "execution_count": 57
        }
      ]
    },
    {
      "cell_type": "markdown",
      "source": [
        "##EXPONENCIAL"
      ],
      "metadata": {
        "id": "KgNjI2IJgIs0"
      }
    },
    {
      "cell_type": "code",
      "source": [
        "  variavelA ** variavelB"
      ],
      "metadata": {
        "colab": {
          "base_uri": "https://localhost:8080/"
        },
        "id": "UkrWEljDgLo7",
        "outputId": "69091970-fcc0-4555-9797-dcf413919aff"
      },
      "execution_count": 58,
      "outputs": [
        {
          "output_type": "execute_result",
          "data": {
            "text/plain": [
              "64"
            ]
          },
          "metadata": {},
          "execution_count": 58
        }
      ]
    },
    {
      "cell_type": "markdown",
      "source": [
        "Operações no python seguem a mesma ordem da matemática, e nós podemos utilizar parenteses para determinar a ordem das operações"
      ],
      "metadata": {
        "id": "kIfxTyF2gTm8"
      }
    },
    {
      "cell_type": "code",
      "source": [
        "(variavelA + variavelB) * variavelC -variavelD"
      ],
      "metadata": {
        "colab": {
          "base_uri": "https://localhost:8080/"
        },
        "id": "cGlcaajBgUcQ",
        "outputId": "d7c4a5e5-1338-4dcd-d22f-13531da2e2af"
      },
      "execution_count": 59,
      "outputs": [
        {
          "output_type": "execute_result",
          "data": {
            "text/plain": [
              "27"
            ]
          },
          "metadata": {},
          "execution_count": 59
        }
      ]
    },
    {
      "cell_type": "markdown",
      "source": [
        "# Print e Display"
      ],
      "metadata": {
        "id": "g_7GyS8fjrLs"
      }
    },
    {
      "cell_type": "markdown",
      "source": [
        "Print e display são **metódos** para exibição de informação no Python. \n",
        " \n",
        " Existem diferenças na exibição de cada um desses metódos, porém agora não será importante para nossos estudos."
      ],
      "metadata": {
        "id": "yCQV-R-GjyBW"
      }
    },
    {
      "cell_type": "code",
      "source": [
        "see = 'hello Word'"
      ],
      "metadata": {
        "id": "yFlKe7m4kJqz"
      },
      "execution_count": 62,
      "outputs": []
    },
    {
      "cell_type": "code",
      "source": [
        "print(see)"
      ],
      "metadata": {
        "colab": {
          "base_uri": "https://localhost:8080/"
        },
        "id": "bkPyfj-nkVZg",
        "outputId": "bcd43926-0320-4cc5-dadf-1a0ad8094788"
      },
      "execution_count": 63,
      "outputs": [
        {
          "output_type": "stream",
          "name": "stdout",
          "text": [
            "hello Word\n"
          ]
        }
      ]
    },
    {
      "cell_type": "code",
      "source": [
        "display(see)"
      ],
      "metadata": {
        "colab": {
          "base_uri": "https://localhost:8080/",
          "height": 35
        },
        "id": "q5M0OFnxkVkF",
        "outputId": "b4569872-6e36-4f08-b2b6-00cfbc409dc2"
      },
      "execution_count": 64,
      "outputs": [
        {
          "output_type": "display_data",
          "data": {
            "text/plain": [
              "'hello Word'"
            ],
            "application/vnd.google.colaboratory.intrinsic+json": {
              "type": "string"
            }
          },
          "metadata": {}
        }
      ]
    },
    {
      "cell_type": "markdown",
      "source": [
        "# Input"
      ],
      "metadata": {
        "id": "CuuhSyq1kf8c"
      }
    },
    {
      "cell_type": "markdown",
      "source": [
        "O metodo **input** serve como entrada de dados do usuário, ou seja é uma variável onde o usuário determina seu valor."
      ],
      "metadata": {
        "id": "76-jF2Mmki5d"
      }
    },
    {
      "cell_type": "code",
      "source": [
        "entrada = input('qual sua idade:')"
      ],
      "metadata": {
        "colab": {
          "base_uri": "https://localhost:8080/"
        },
        "id": "M0RME9G0k2fN",
        "outputId": "1e1d5a6f-c09b-4b79-b7dd-f6dced2f4bb9"
      },
      "execution_count": 65,
      "outputs": [
        {
          "name": "stdout",
          "output_type": "stream",
          "text": [
            "qual sua idade:28\n"
          ]
        }
      ]
    },
    {
      "cell_type": "code",
      "source": [
        "print('Eu tenho:', entrada)"
      ],
      "metadata": {
        "colab": {
          "base_uri": "https://localhost:8080/"
        },
        "id": "9mkQ3Wkrk-Mc",
        "outputId": "f6f2e28e-5150-43e3-c4cf-c6798b4bd3f5"
      },
      "execution_count": 68,
      "outputs": [
        {
          "output_type": "stream",
          "name": "stdout",
          "text": [
            "Eu tenho: 28\n"
          ]
        }
      ]
    },
    {
      "cell_type": "markdown",
      "source": [
        "#Comparações em Python"
      ],
      "metadata": {
        "id": "eXEa62YIlb_o"
      }
    },
    {
      "cell_type": "markdown",
      "source": [
        "##Booleanos (bool)"
      ],
      "metadata": {
        "id": "pAHmpbZdwWGr"
      }
    },
    {
      "cell_type": "markdown",
      "source": [
        "Além das variáveis de tipo inteiro nós temos outros tipos como as variáveis booleanas que são representações de valores binários de Verdadeiro e Falso (True e False respectivamente)"
      ],
      "metadata": {
        "id": "X5vFPmZswfEC"
      }
    },
    {
      "cell_type": "code",
      "source": [
        "var = 1"
      ],
      "metadata": {
        "id": "Ag95jMu0whx_"
      },
      "execution_count": 105,
      "outputs": []
    },
    {
      "cell_type": "code",
      "source": [
        "var > 2"
      ],
      "metadata": {
        "colab": {
          "base_uri": "https://localhost:8080/"
        },
        "id": "CcE_sRIjwnU3",
        "outputId": "0bb0a33c-6237-46b6-b8b1-9ab4f01d53f0"
      },
      "execution_count": 106,
      "outputs": [
        {
          "output_type": "execute_result",
          "data": {
            "text/plain": [
              "False"
            ]
          },
          "metadata": {},
          "execution_count": 106
        }
      ]
    },
    {
      "cell_type": "code",
      "source": [
        "var < 2"
      ],
      "metadata": {
        "id": "rFHOi4vRwpux"
      },
      "execution_count": null,
      "outputs": []
    },
    {
      "cell_type": "markdown",
      "source": [
        "As comparações em Python servem para dizer se \n",
        "\n",
        "\n",
        " 1. ✅ Um variável é maior ou menor que outra\n",
        " 2. ✅ Uma variável é igual a outra\n",
        " 3. ✅ Uma variável é igual a outra\n",
        " 4. ✅ Uma variável é maior ou igual\n",
        " 5. ✅ ENTRE OUTRAS MUITAS POSSIBILIDADES "
      ],
      "metadata": {
        "id": "U-u2IuCRli0Q"
      }
    },
    {
      "cell_type": "code",
      "source": [
        "# Operadores de comparação :\n",
        "\n",
        "valor = 1\n",
        "\n",
        "\n"
      ],
      "metadata": {
        "id": "MNeacaBknrgQ"
      },
      "execution_count": 85,
      "outputs": []
    },
    {
      "cell_type": "code",
      "source": [
        " #IGUAL A...\n",
        "valor == 1\n"
      ],
      "metadata": {
        "colab": {
          "base_uri": "https://localhost:8080/"
        },
        "id": "T81cTgA7pyR3",
        "outputId": "3b121272-cfd6-4120-dbc1-46d1bd6837a8"
      },
      "execution_count": 86,
      "outputs": [
        {
          "output_type": "execute_result",
          "data": {
            "text/plain": [
              "True"
            ]
          },
          "metadata": {},
          "execution_count": 86
        }
      ]
    },
    {
      "cell_type": "code",
      "source": [
        " #MAIOR OU IGUAL\n",
        "valor >= 1"
      ],
      "metadata": {
        "colab": {
          "base_uri": "https://localhost:8080/"
        },
        "id": "DPgh8uhHp0PA",
        "outputId": "5e5d47e1-4f17-4a80-8ee0-67da00987def"
      },
      "execution_count": 87,
      "outputs": [
        {
          "output_type": "execute_result",
          "data": {
            "text/plain": [
              "True"
            ]
          },
          "metadata": {},
          "execution_count": 87
        }
      ]
    },
    {
      "cell_type": "code",
      "source": [
        " #MENOR QUE...\n",
        "valor < 1"
      ],
      "metadata": {
        "colab": {
          "base_uri": "https://localhost:8080/"
        },
        "id": "p6GH1levp4nJ",
        "outputId": "ed317d14-8f43-4a4a-ab96-3ac7ce1c0189"
      },
      "execution_count": 88,
      "outputs": [
        {
          "output_type": "execute_result",
          "data": {
            "text/plain": [
              "False"
            ]
          },
          "metadata": {},
          "execution_count": 88
        }
      ]
    },
    {
      "cell_type": "code",
      "source": [
        " #MENOR OU IGUAL\n",
        "\n",
        "valor <= 1"
      ],
      "metadata": {
        "colab": {
          "base_uri": "https://localhost:8080/"
        },
        "id": "YGxZeproxJV9",
        "outputId": "a6eb7fe2-54db-4ac8-c86c-db76c9d79f94"
      },
      "execution_count": 115,
      "outputs": [
        {
          "output_type": "execute_result",
          "data": {
            "text/plain": [
              "True"
            ]
          },
          "metadata": {},
          "execution_count": 115
        }
      ]
    },
    {
      "cell_type": "code",
      "source": [
        "comparacao = 1"
      ],
      "metadata": {
        "id": "bqvz3umsmA5g"
      },
      "execution_count": 70,
      "outputs": []
    },
    {
      "cell_type": "code",
      "source": [
        "print(\"comparacao é igual 1\", comparacao == 1)\n",
        "\n",
        "print(\"comparacao maior que 1\", comparacao > 1)\n",
        "print(\"comparacao maior igual a 1\", comparacao >= 1)\n",
        "print(\"comparacao menor que 1\", comparacao < 1)\n",
        "print(\"comparacao menor igual a 1\", comparacao <= 1)\n",
        "print(\"comparacao igual a 1\", comparacao == 1)\n",
        "print(\"comparacao diferente de 1\", comparacao != 1)\n",
        "print(\"comparacao entre 1 e 2\", 1 < comparacao < 2)"
      ],
      "metadata": {
        "colab": {
          "base_uri": "https://localhost:8080/"
        },
        "id": "Fo5re4XYlhpO",
        "outputId": "4ee01e1a-5e3f-4a15-9d38-359b13b96154"
      },
      "execution_count": 107,
      "outputs": [
        {
          "output_type": "stream",
          "name": "stdout",
          "text": [
            "comparacao é igual 1 True\n",
            "comparacao maior que 1 False\n",
            "comparacao maior igual a 1 True\n",
            "comparacao menor que 1 False\n",
            "comparacao menor igual a 1 True\n",
            "comparacao igual a 1 True\n",
            "comparacao diferente de 1 False\n",
            "comparacao entre 1 e 2 False\n"
          ]
        }
      ]
    },
    {
      "cell_type": "markdown",
      "source": [
        "##Operações DE COMPARAÇÃO"
      ],
      "metadata": {
        "id": "O_CAY4tRwJln"
      }
    },
    {
      "cell_type": "markdown",
      "source": [
        "Expressões de COMPARAÇÃO são operações que determinam duas ou mais condiçoes de entrada sendo verdadeiras ou falsas.\n",
        "\n",
        "Um exemplo pratico é ;\n",
        " *  fruta1 = banana\n",
        " * fruta2 = maçã \n",
        "\n",
        " * Ambas são frutas ? **TRUE**\n",
        " * Ambas são amarelas ? **FALSE**\n",
        "\n",
        "  Esse é um exemplo de condionais, se ambas são frutas , a condição de fruta é verdadeira para as duas, e neste caso utilizamos a condicional **AND** (E) \n",
        "\n",
        "  *  🍌 Banana E(AND) maçã são frutas > AND ( em português,E)\n",
        "\n",
        "  Outra condição demonstrada é a **NOT**\n",
        "\n",
        "  *  🍌 Banana e maçã NÃO(NOT) são amarelas > NOT ( em português,NÃO)\n"
      ],
      "metadata": {
        "id": "kkVbLW39qqqz"
      }
    },
    {
      "cell_type": "markdown",
      "source": [
        "###**AND** - Todas as condições verdadeiras"
      ],
      "metadata": {
        "id": "vhTwMjsNv6L1"
      }
    },
    {
      "cell_type": "code",
      "source": [
        "a = 1\n",
        "b = 2\n",
        "\n",
        "print('A é :',a == 1 , '|B é :',b > 1, '|então a comparação é:', a == 1 and b > 1)\n",
        "\n",
        "print('A é :',a > 1 , '|B é :',b > 1,'|então a comparação é:', a == 1 and b < 1)\n",
        "\n",
        "print('A é :',a >= 1 , '|B é :',b < 1,'|então a comparação é:', a == 1 and b < 1)\n",
        "\n",
        "print('A é :',a > 1 , '|B é :',b < 1,'|então a comparação é:', a > 1 and b < 1)"
      ],
      "metadata": {
        "colab": {
          "base_uri": "https://localhost:8080/"
        },
        "id": "cA24MsoctbKP",
        "outputId": "221b490e-c9df-4d59-8624-1bcc194dedce"
      },
      "execution_count": 99,
      "outputs": [
        {
          "output_type": "stream",
          "name": "stdout",
          "text": [
            "A é : True |B é : True |então a comparação é: True\n",
            "A é : False |B é : True |então a comparação é: False\n",
            "A é : True |B é : False |então a comparação é: False\n",
            "A é : False |B é : False |então a comparação é: False\n"
          ]
        }
      ]
    },
    {
      "cell_type": "markdown",
      "source": [
        "###**OR** - Uma ou outra condição verdadeira"
      ],
      "metadata": {
        "id": "3cMWmz3yv1HV"
      }
    },
    {
      "cell_type": "code",
      "source": [
        "a = 1\n",
        "b = 2\n",
        "\n",
        "print('A é :',a == 1 , '|B é :',b > 1, '|então a comparação é:', a == 1 or b > 1)\n",
        "\n",
        "print('A é :',a > 1 , '|B é :',b > 1,'|então a comparação é:', a == 1 or b < 1)\n",
        "\n",
        "print('A é :',a >= 1 , '|B é :',b < 1,'|então a comparação é:', a == 1 or b < 1)\n",
        "\n",
        "print('A é :',a > 1 , '|B é :',b < 1,'|então a comparação é:', a > 1 or b < 1)"
      ],
      "metadata": {
        "colab": {
          "base_uri": "https://localhost:8080/"
        },
        "id": "LoZY8WbEuJs4",
        "outputId": "f2b8a10c-d7ab-4d95-e1e5-f641192456de"
      },
      "execution_count": 100,
      "outputs": [
        {
          "output_type": "stream",
          "name": "stdout",
          "text": [
            "A é : True |B é : True |então a comparação é: True\n",
            "A é : False |B é : True |então a comparação é: True\n",
            "A é : True |B é : False |então a comparação é: True\n",
            "A é : False |B é : False |então a comparação é: False\n"
          ]
        }
      ]
    },
    {
      "cell_type": "markdown",
      "source": [
        "###**NOT**  - inverte a condição"
      ],
      "metadata": {
        "id": "7cqO8XaVvvPe"
      }
    },
    {
      "cell_type": "code",
      "source": [
        "a = 1\n",
        "b = 2\n",
        "\n",
        "not a == 2"
      ],
      "metadata": {
        "colab": {
          "base_uri": "https://localhost:8080/"
        },
        "id": "lD1O9p7jve1I",
        "outputId": "0fec3455-8a64-4f4f-9198-ad07bfdfe209"
      },
      "execution_count": 104,
      "outputs": [
        {
          "output_type": "execute_result",
          "data": {
            "text/plain": [
              "True"
            ]
          },
          "metadata": {},
          "execution_count": 104
        }
      ]
    },
    {
      "cell_type": "markdown",
      "source": [
        "# Estruturas Condicionais"
      ],
      "metadata": {
        "id": "lrgUFPQGyld6"
      }
    },
    {
      "cell_type": "markdown",
      "source": [
        "##IF/ELSE"
      ],
      "metadata": {
        "id": "f_2Msy6_zNo1"
      }
    },
    {
      "cell_type": "markdown",
      "source": [
        "Estruturas condicionais são muito utilizadas em qualquer linguagem de programação.\n",
        "\n",
        "  Essas estruturas são acionadas de acordo com as condições passas , como por exemplo ;\n",
        "\n",
        "   **SE** algo acontecer FAÇA ISSO \n",
        "     **SENÂO** FAÇA AQUILO\n",
        "\n",
        "\n",
        "São os famosos **IF** e **ELSE**"
      ],
      "metadata": {
        "id": "fFdamfGDytDW"
      }
    },
    {
      "cell_type": "code",
      "source": [
        "idade = int(input('qual sua idade:'))\n"
      ],
      "metadata": {
        "colab": {
          "base_uri": "https://localhost:8080/"
        },
        "id": "tNqpbzFvzQML",
        "outputId": "0bb80076-4cf8-4390-8322-3061ba4ceb41"
      },
      "execution_count": 7,
      "outputs": [
        {
          "name": "stdout",
          "output_type": "stream",
          "text": [
            "qual sua idade:28\n"
          ]
        }
      ]
    },
    {
      "cell_type": "code",
      "source": [
        "if idade >=18:\n",
        " print('ja pode ser preso')\n",
        "else: \n",
        "  print('ta no toddy')"
      ],
      "metadata": {
        "colab": {
          "base_uri": "https://localhost:8080/"
        },
        "id": "b-1N4SSTzdrT",
        "outputId": "52169e4b-f940-46e2-d29d-5a8fc62ab421"
      },
      "execution_count": 9,
      "outputs": [
        {
          "output_type": "stream",
          "name": "stdout",
          "text": [
            "ja pode ser preso\n"
          ]
        }
      ]
    },
    {
      "cell_type": "code",
      "source": [],
      "metadata": {
        "id": "zm6RFIBphKgh"
      },
      "execution_count": null,
      "outputs": []
    },
    {
      "cell_type": "code",
      "source": [
        " def vestibular(nota):\n",
        "    if nota >=7: aprovado = True\n",
        "    else: aprovado = False\n",
        "\n",
        "    if nota >= 7 and idade >= 18:\n",
        "      print('aluno foi aprovado?', aprovado)\n",
        "    else: print('refaça o teste', aprovado)\n"
      ],
      "metadata": {
        "id": "jpZa4h75gU6Y"
      },
      "execution_count": 23,
      "outputs": []
    },
    {
      "cell_type": "code",
      "source": [
        "vestibular(10)"
      ],
      "metadata": {
        "colab": {
          "base_uri": "https://localhost:8080/"
        },
        "id": "OPcue3gqgt-B",
        "outputId": "7ee0f228-cb38-46c4-d550-f42e24ab534a"
      },
      "execution_count": 21,
      "outputs": [
        {
          "output_type": "stream",
          "name": "stdout",
          "text": [
            "aluno foi aprovado? True\n"
          ]
        }
      ]
    },
    {
      "cell_type": "markdown",
      "source": [
        "##ELIF"
      ],
      "metadata": {
        "id": "sTVxYLCZzTGn"
      }
    },
    {
      "cell_type": "markdown",
      "source": [
        "Temos também o **ELIF** , que serve para declaramos uma cadeia de condições."
      ],
      "metadata": {
        "id": "Gn-m_TKGikJd"
      }
    },
    {
      "cell_type": "code",
      "source": [
        " def vestibular(nota):\n",
        "    if nota >=7: aprovado = True\n",
        "    else: aprovado = False\n",
        "\n",
        "    if nota >= 8:\n",
        "      print('aluno foi aprovado com excêlencia', aprovado)\n",
        "    elif nota >= 7:\n",
        "      print('aluno foi aprovado com o minimo', aprovado)\n",
        "    elif nota >= 5:\n",
        "      print('aluno foi reprovado', aprovado)\n",
        "    else: print('refaça o teste que o negocio tá ruim', aprovado)"
      ],
      "metadata": {
        "id": "kLD0RbtmitGt"
      },
      "execution_count": 24,
      "outputs": []
    },
    {
      "cell_type": "code",
      "source": [
        "vestibular(10)"
      ],
      "metadata": {
        "colab": {
          "base_uri": "https://localhost:8080/"
        },
        "id": "Uv1vafVdjboD",
        "outputId": "b4be90c8-03b4-40a6-8a60-9d39581152cb"
      },
      "execution_count": 26,
      "outputs": [
        {
          "output_type": "stream",
          "name": "stdout",
          "text": [
            "aluno foi aprovado com excêlencia True\n"
          ]
        }
      ]
    },
    {
      "cell_type": "markdown",
      "source": [
        "# Estruturas de repetição"
      ],
      "metadata": {
        "id": "zR-xlO2JjvHU"
      }
    },
    {
      "cell_type": "markdown",
      "source": [
        "##**WHILE** \n",
        "  - O termo **while** significa **enquanto**, ou seja , enquanto isso estiver acontecendo tome determinada ação.\n",
        "\n",
        "  Vamos ao exemplo;\n",
        "\n",
        "  * problema : Estou com fome \n",
        "  * Caso : Enquanto eu estiver com fome \n",
        "  * **Ação** : Vou comer enquanto ainda ocorrer a fome"
      ],
      "metadata": {
        "id": "6Ivoia4ijzJh"
      }
    },
    {
      "cell_type": "code",
      "source": [
        "a = 10\n",
        "\n",
        "# Enquanto a for menor que 5 printa na tela o item atual\n",
        "while a < 20 :\n",
        "  print(a)\n",
        "\n",
        "# acrescenta ao proximo item de 1 em 1\n",
        "  a += 1 "
      ],
      "metadata": {
        "colab": {
          "base_uri": "https://localhost:8080/"
        },
        "id": "-pkMnJdckrD-",
        "outputId": "b846a03b-119b-4f49-e3fe-4b0d8b5d6048"
      },
      "execution_count": 43,
      "outputs": [
        {
          "output_type": "stream",
          "name": "stdout",
          "text": [
            "10\n",
            "11\n",
            "12\n",
            "13\n",
            "14\n",
            "15\n",
            "16\n",
            "17\n",
            "18\n",
            "19\n"
          ]
        }
      ]
    },
    {
      "cell_type": "markdown",
      "source": [
        "##**FOR** \n",
        "  - Laços for, diferente do while, percorrem uma lista de itens em particular combinados com a expressão in. Esses laços são muito usados com listas (que veremos mais a frente), mas também com objetos \"range\""
      ],
      "metadata": {
        "id": "BiTLHoEXl94w"
      }
    },
    {
      "cell_type": "code",
      "source": [
        "for a in range(10):\n",
        "  print(a)"
      ],
      "metadata": {
        "colab": {
          "base_uri": "https://localhost:8080/"
        },
        "id": "CpQfy3kgl-7U",
        "outputId": "ac2a98b8-199a-4a64-c4a8-aa5f7ef18963"
      },
      "execution_count": 45,
      "outputs": [
        {
          "output_type": "stream",
          "name": "stdout",
          "text": [
            "0\n",
            "1\n",
            "2\n",
            "3\n",
            "4\n",
            "5\n",
            "6\n",
            "7\n",
            "8\n",
            "9\n"
          ]
        }
      ]
    },
    {
      "cell_type": "code",
      "source": [
        "# começo = 0 (inclusivo)\n",
        "# fim = 5 (não inclusivo)\n",
        "# passo ( quantos em quantos) = 1\n",
        "a = 10\n",
        "for a in range(0, 7, 3):\n",
        "    print(a)"
      ],
      "metadata": {
        "colab": {
          "base_uri": "https://localhost:8080/"
        },
        "id": "xV9AB3momRUB",
        "outputId": "19099d8d-0276-4e73-ddc0-5cf26d162c3d"
      },
      "execution_count": 56,
      "outputs": [
        {
          "output_type": "stream",
          "name": "stdout",
          "text": [
            "0\n",
            "3\n",
            "6\n"
          ]
        }
      ]
    },
    {
      "cell_type": "markdown",
      "source": [
        "#Funções"
      ],
      "metadata": {
        "id": "Yrzqe-MMzvUy"
      }
    },
    {
      "cell_type": "markdown",
      "source": [
        "Funções são um dos principais elementos em uma estrutura de código , são elas que determinam os escopos de código e as rotinas executadas em cada parte do código"
      ],
      "metadata": {
        "id": "COWPbTrhzzyl"
      }
    },
    {
      "cell_type": "markdown",
      "source": [
        "As funções no python utilizam a palavra reservada **def** e são compostas da seguinte maneira ▶\n",
        "\n",
        "![image.png](data:image/png;base64,iVBORw0KGgoAAAANSUhEUgAAAXoAAAC5CAYAAAAmq/Q+AAABaWlDQ1BrQ0dDb2xvclNwYWNlSVRVUl83MDkAACiRY2Bg0kksKMhhYWBgyM0rKQpyd1KIiIxSYL/PwMUgCRSUZZBJTC4ucAwI8AHyGGA0Kvh2jYERRF/WBZl1eIZZ1ASmvNX2Dz/6BP02W4CpHgVwpaQWJwPpP0Ccl1xQVMLAwJgDZCuXlxSA2BOAbJEioKOA7CUgdjqEvQPEToKwz4DVhAQ5A9kPgGyF5IzEFAYGJpD5OklI4ulIbKi9ICASlJqsp+AZEqobpOAUomduYKlrSsDZpIOS1IoSEO2cX1BZlJmeUaLgCAytVAXPvGQ9HQUjA0OglaCwh6j+HAgOU0axMwix/EUMDBZfGRiYJyDEkmYyMGxvZWCQuIUQU1nAwMDfwsCw7XxBYlEiWIgZiJksnjAwvPjAwCAuADQHyBbZU5xmbASWZ+RxYmBgvff//2c1Bgb2yQwMfyf8//970f//fxcDNd9hYDiQBwBuoWawaYK3pAAAQABJREFUeAHtnQd8VtX5xx9IAiSMsPcIey8FZaiAq1ZBq1VcbbX+tdbVqq11r1rr3rVVa6W1rVbcewMiyhBQkb33HhlAQhLI//c9eW+4vLxZrCTkPPk8ufe998zfved3nvOcc+818+IR8Ah4BDwCHgGPgEfAI+AR8Ah4BDwCHgGPgEfAI+AR8Ah4BDwCHgGPgEfAI+AR8Ah4BDwCHgGPgEfAI+AR8Ah4BDwCHgGPgEfAI+AR8Ah4BDwCHgGPgEfAI+AR8Ah4BDwCHgGPgEfAI+AR8Ah4BDwCHgGPgEfAI+AR8Ah4BDwCHgGPgEfAI+AR8Ah4BDwCHgGPgEfAI+AR8Ah4BDwCHgGPgEfAI+AR8Ah4BDwCHgGPgEfAI+AR8Ah4BDwCHgGPgEfAI1C+EIgrg+JUUZ4jpRuk20qRf1eFPVfaXjpbmieNltN0oLl0WfSJCvh7sMrcQLq2ApbdF9kj4BGo5AjUUP3XSQeUAocTFRZiR4lbRxpLntfB8dKy6MBilWd/jr2syDfsTwI+rkfAI+ARAIGqZQBDU+XZWJpbwrwp463SldJe0k7SdGks2a6DqdJY1n6s8OX1WHUVjJEL9fHiEfAIeAT2C4GyIPrSFjhREbpJfyX9QZomLangJoIw2ZY3iS+iQLt0DrL34hHwCHgE9huBQ0H09VTK+6WB2+XBSKkDwobQboucJ8xoaQcp5Hye9E9SRgD/lL4nvVNaEuKGSJ+VLpS2lSJHSGdJyYdRweVSXElTpMOlYRmiH4uklH+CNDjfV/srIse1sT9In5KCJXleIw3SH6n9QMDgMumFUs7nSM+SIsSjI+M4+oyU0csaqRePgEfAI1CuEaip0n0vxa9+sfRaKUQGUeJnh7BHSTkGKZ4a2R+vbZKUuJxDX5P+WXqxtDCif1rn8NOTNp0C8S6VIj2k/KYjGSh9NPKbuYKxUsqIWwmB/Ml7npQJUQj/KinypJR0iAe500lwjDK9KOXcg6H9U7SPUDbOoVdKiUeaxAvSvE77v5CSH+F6S714BDwChw4BPAheSonA6QoPgbYMxTsxcqyeth2kENqx0kbSOyO/79Y2kI7aIUyr4EARWwiWsIFCmoFApq9Ia0mPl2LZp0tJN+gEsMwRyk0akDRETCfznLS2lHicu0jaMLJPuKMi+xxHiPe59Hf8kJA/HVzQmTDawMJPkZIeZQqkhXY41i844LceAY/AQUcAA2+R9ISDntMhzgCL9GAKbpmJ0lWhTOqG9iFYZLx0vRRLlyWSd0nDwrmt4QOF7HOhwgIxIxwfImXUkCGFgN+VdpFCvjOlD0mvlmKpY1nPlxIOwsX9Eyc9WtpNirSX9pGS3ndSOi3K+Y4UIR6dAvkSN0n6oHStFLlS+ndpgpR430gDIawXj0BFQ4D21uQQF7qb8qMNIfDNvgpcWE2aJaWdY6jti8TvS6SKHgd/ND1keDg0SL+x8rHoz5ZCiP+QdpcG0kw7QZyO2idMcdYtF+YtKVZ7svSPUuINl0L030ux4C+Q4tpBiNPa7ZkFVjRx0FMix9kE5eT49dIR0inSF6UQO0ROGNJvLEVIm46CciC4lK5ye3v+o7Mh3U6hww0jx4qrcyiK3/UIlDkCT6oEtIFrpBh406T9pYFAxJwL2hij5DZS2ifhfyS9Xcp50qHtI4yCSTs4/gftYwylRI6doO09kf0Htb02sk8aXaWBkM5oaZD//dqHK8gfngqOB9t3dIwOAOEZnuA49TqRg5IUKXEHS4O0cfnWklYawWIHHACAtE6VQvIoRI9Lh/NPSSG69lKsbo5xQyAB0dPLFiU1dRIL+tJIIHrWsVLyaiW9T8qFP03aRsoNOErK+YD4f6198uZCBVaCdgtcO5zrHFH20fOkSLgu1JWbkfPHSpHCiJ68KfcKKTcPHeEnUuJWdqLHwqIDRuKkNMqSSjcFDK5h9ZJG8uH2GQEMm6elQbt4QvsBebbTPtdgQuT89dr+LLL/K22Dtktc2sHFUtol93+KlOO0XbjhpshvznWJ7Ad5Tgz9Jn/SeFlK2aLb2eU6RrzrpHDFCOmVUuKMkp4u7SVFgrLerH0IfYqUcHBYwE+k9Zr0amlwTruVRyD34EKwhdTY0hCRYdLwefa5SFx8pKeUi4yVX5TQqL+X/i4UKEX7pHe+NEkK2Ybz4oIMkQbCPue56GGhx6fc46XcFMGNSfxG0kCCTirIg5sokPe0c0PwI2rLzRI0CuJSX7Y/l1ZmuVCVB+NzIlswuUsaWFkH29JTVl5KgcBvFRai5rogKVKuGaQMcbJ/jBQhDL97S4P29Yr2aV9cX9ob556UhtMcot/cExB3Q2nQbuATuIa2ExD0Xdp/RxonPVtKvJbSrtLRUvI/RRoIHEK+lwYHtA3KdpX2sdIvlhIPY5BzAdFzHsEwIZ/a/KhsQqXbSBtHKs5FCguWGy4UwtQNn9D+ECkXuiTAERfww8LNQI8eSCPtkA8XJHycfVw/3DiJ0mg5QgcCNw/njpJyA0cLHVJPaYeoE9x8raKOhX9yg5M+Pk7KQscULp9+VjqhceZF9EFtb5HSiLCkUqSco2EfLEtPSXspBQJcL4g1uG8D4wsSfFIKOXKfIylSrh9tKCDTcHsiXHD8bu0Hcrp2gnsgOH9K5GSXyLmAKyhPEJb7J7iX2L4hpSMJS2DABaTNOdpxOB77v5YyQkEgevIIc1pQR857KWcI0NNzEcMXuZwVsdIVh4bKNcG1B3mkSPmNmw/iOFSWnrLyUgIEuF5cE4wUBKOH63We9GkpI+I4KRJYz5A7hI2BxX5YOI6FHR4Zp+h3QN6BNX2EjiHB74DAcYOmSzGwuF8oy01S2nogbbXDvYWwxf0S5oAgzSk6PkQajCax7htKOR+UR7vlU4JCl8/SHdpSDYhk98GhzdbnVgQCQYN8VGFopAmRsDSwE6QvSNdGjiVHthDJVmmW9MfS2dLF0kzpEikyU8qcD1YYI7PGUgiKsFhjfaQfSb2UHgGu2cXSk6UvSZGvpGOlx0rPkDLy/qm0m5RwCNcrWjj2ufQmaV8po91fSLle/A4k4LFdkQPBfbJBv7Huifdh5BzEz/ku0j9IuTeCjoF7bJM0LEv145vIge3a0mkMlU6WvioNOgnteqkICJyqQr4ihSi8lA8Enlcx3pEG16Sj9mmMWGqH0tJTdl5KgMDZCsP1CWtA5Fj570WdwxJGm0a2A7SNFizuRdJwmuyPlUK67AfxokcGuGeD8xAyljq/w3qFfgcdBR3A99IbpGGhDNxv4Xgf6Xd7adfI8XraevEIeARKiQANMyD6oCEGRH+szjEUhyQCS+8O7dMQj5cG4fppH6FBci74HT7/48i5K7WlQQeWHuGx7L2UHAGInmuCX7u+FOKNls46wBwWljZ+bvDmWg+Uhv3c+lkg1bTXXUpY7gVINUWKtJNC0AijseekXF+EdIdLG/EjIuTRJqKxykdcXE6xhI6FuIwQAqmpHQyP4B4NjvutR8AjUEIEsKywsAKLnkaFdcfKKkiZfQg5rGP1mwbJsQNl6SkpLyVAICB6b92WACwfxCPgEchHAKsv8NMHmEDeAZEcSksvyN9vC0fAE33h2PgzJUDgfIXpVIJwPohHwCNQdggwz8Wcil9eWHbXoMLm/EuV/IUKW3pfcI+AR8Aj4BEoEgGWzKUWGcKf9Ah4BDwCHoEKjcDnKj2rKLx4BDwCHgGPwD4iUJ6XBLHcba50zD7WzUerOAgw/3JnxSmuL2kIAX/dQmD43dIh0FTB15Quig9dQRFgnfO8Clr2yl5sP+Ku7HfAftb/a8XnAQovhzcC16t67x7eVTxsa3eLanbvYVs7X7GDjgAPwzx80HPxGZQ1As+oAI+UdSF8/vuEwNGKNWmfYvpIHgEhwNOOvGTIy+GNAPMulx/eVTysa7dNtePdNV48AvuEwLeK5d8vsk/QVYhIkMNK6bAKUVpfyFgI8EDUiFgn/DGPQEkQuE2B7ilJQB+mQiJAB44lyBsFvVRMBH6rYj9eMYvuS10eEOimQswqDwXxZTgoCIxUqozWvFRcBHqq6DMqbvF9ycsDAqyX5/WlXg4/BBipvXL4VavS1Wi9atyo0tXaV/iAIcASLZZqeTn8EPi3quTdcRX/ur6sKpxX8avha1BWCBypjKeWVeY+34OKwGSl/rODmoNP/FAgcJky4WMeXjwC+4zAMsVsvc+xfcTyiADD+y3So8pj4XyZSoUAX2/i4y5ePAL7jAAffL5un2P7iOURgcEqFL7cuuWxcL5MpUZgiWKklDqWj+ARiCBwjLZfejQOKwR+qdpMOKxqVLkr8w9V/5LKDYGvfWkQ6KDA/aMi+Bn8KEAq+M/7VP4XKngdKmvx+Rwjc2XhN9leoN//rayA+HrvGwI8ZLFTmhSJ/jdtfx3Z95uKgwDfaf1fjOK+rmM3xTjuD1UMBHiALVt6ZqS4TbRdG9n3G49AiRF4QiHzpFgIJ0k/kXqpeAj8WUXOkrYPFf0H7Z8V+u13Kx4Cp6jIqdIVkaLP1LZ7ZN9vPAIlRoBXDkP03EyZ0rZSLxUPgXQVeasUv20b6Q5pD6mXio3A71V82ifXFiPsGqkXj0CpEViuGNxIaJp0mxSSWC31UjEQOFfF5LpxDfnYxFIpvl0vFR+B11SFoH1u1j4dOs+2/EfaRurFI1AiBHIUKriRgi0+Qf9ypBLBVy4C4aIJrh2d9VvSAeWiZL4Q+4vAfCUQXNtgy8g7Q9pqfxP38SsHAs1UTYaEwQ2EtfCSNJiY1a6Xco5AX5UPt1twDYMt13VNOS+7L17xCLBQIrimkPsm6UXFR/MhPAK7EeABGsidm+cbaTepl4qFwGgVNyACtgHpT9e+H5VVrGsZXdrOOgC500Z5mvlSqRePQKkR6KcYS6Wnljqmj1AeEKihQqyXYvXht+VNlMdKvRweCDBaWyX99eFRHV+LwhCokicp7KQ/7hHwCHgEPAIVG4EqkvDTcBW7Nr70HoF9RABTZ5f+eZNnHwH00co9AvHRJdTtbrm7cm3HTlZA5ktclTirHlfdqh6gfiFnV47l7MyxnXk7rYqyiI9LsGpVqx2Q9GmwOTtVBylDlSrKoHp8VYuvSk6lk5278iwrZ5dLh+g1EqqqjKVPp3S5+tABAlzHnJ27RML5R4A+KSHOXdMgzP5uucbr0rNtZeoOa1G3ujVPrn5A09/f8vn4HoEDgcBeRJ+Zk2nfrPvGpq79RkS8y+XRvFZzO7nNydY4qfF+57l++3qbtm6qLU5bbKlZqRZXNc5SktvaMS2OsZa1Wu5X+pDywg2ZNnPVNlujxrtDvyHnI1rVsuM61S112vPWbreP52yxXYKhVo2qdnqvhtYsuWyXj0NM6Vk7jW1yYrwlxB2eHQ/W9XcrttqUpenqbPOZvpru1osHNrXaNfa6bUt9bYMIW7bn2vMT1tjTE1bblcc0txtObmVJ1eKC02W2zcnJsaysLKtdu3bMMuzSTbljxw6Lj9c9kJAQM0x5Pkj9srOzLSkpSR3r4XkPlyf892oxGzI32D9njrJ/zvpXwVqLzo06Wpf6Xfab6Lfnbrf7p9xvf531hO3IFHtyf6oNt6ndyu4ecI9d1P2ifcYGYoAU/vzhcvt4gRaGwA3cPyLEQSl1bMLv+5T6hnrr+01261uLXRq1RPCdGieVOdGvluX56vQNtlYd2SWDmlnnpmoo+4xa+Y2Yq+v2xrcb7P7P9WQ+RK/fVHSEOtsDSfTbs3faog1Ztn7TDmfVZ2bvKnOiz83NtS+++MLWrFljP//5z2NepPXr19uECROsQ4cO1rt371Lf2zETPYQHly9fbuPHj7cTTzzRWrZsWeHKfwihOiBZ7UX0tRJq2cDmAy09O93mbJ5tczbNUxsTKUOc+ylzN821x757TA3XrE/TXja05TDnIqoeV8PayqrfH8nK3WXviJixwKsnxtlZ3Rs4Uk7dnmOt6lXfp6T7tKppA9rVsUkL05z/Fq4pa5m9Zru9MHGtzVq5zQa0rWOdmyTld2hlXbADnH+cZo/6aCR2ft9GNmP1NpuleptGaAfiPgwXFeu9Rwtd5451rXuzmlajWtlPW82YMcNuuukmGzJkSKFEv2jRInvqqafspz/9qfXo0cNZ9uF6lfd9RitPP/20LVy40G655RarWbNmeS9yhS5fAdFD5pD71pytNqj5YBvYbKC9uuBVu2fan2JWEA/4xsyNtnbbWtuavdX51+vVqGfNajazWtVqyfjabWfi88eaxx3kFuqpLV3a81d2dsezTR5Y5/9Prp4cM5/iDmLJ7xDJr9icZUulmmCwY1rXtd8c38LaNUwUQedZHQ31g+Eh4bfJisMvu2lrjuLmWVWVhzD4aOsmxRX44U/qWt82pOfkE70Ksm1Hrs0U6WTIdVKzelVrqfD1khKUdn4pmR9Yp/CZSh/BbdRMPt+MHTtd+VIzc4VNnLVpUEP5FECfH7kE//PrmmfZKjMWrtzX2uQ5rClCUI5wUsxVbNqWY+szcgzrlTmGesq7qUYoNVWWWHHC8YvbB/s1adm2XnhqV2lWtYa1E9zcBufa1K8hrHa7QrYJC4f9tlyFz5P1nI9Rw5rxug677xnKeXrvhjasc1179ss1du9nK5wrrrDygA04M+IBZ36TdqKuwQZdZzrEBjXD10qLxxUO183g9nWsY+NEa9uwhiWEykBepMPoCewoXR25yxrWyq/f+gzVWfhW0xxQfZU/7PLJ1vE1Kgu4Z+tCVVPPVUcGCO5F0unevKbclrvrS15Ieka6/eUvf7HVq1fbhRdemH8w6j/39M6dOw33B9Y/bpyCxXNKMtz2gqi4STZs2GCMBCDZGjVqWOPGja1Ro0ZWrVq+O3Ljxo22bRtvutC8VvXqtmLFCucWatWqlXMTrVq1yh3nd926dd2xTZs2uXLUq1fPkTW/MzMzXceTnJxstWqJC2LcZJ06dbJ+/frZqFGjbOjQoXbSSbzvsGihDrirKHtFdFcVXbuDe9axTfbObJuydop9vvwzW5K2RA1wp7Ws3dIWpS4Uk+xdgOxd2TZh5QT7cMkHNnvzLNuctVk3rYiyZgsb3PwY+3HbH1v7uu0d+RN74uqv7SvpFyvGFVhk09dNs43bN1gdEfywVsOsT+M+e2dUgiObRWJj5qXaxMXp9oNIGIHYXpd7gyF+W5HqBUftnlvYqEb/38nrbMqydFuxZYdtV8OjwTUUCQyS9f7zo5tYa5ET9yb+73pqwAjh3taIgca9UenXF8Gf0KWunXNEY2tVP3/EQMfx5JiVtnzzDnWDedZKHcHlQ1q4sny5IM3WKm4DpXdB/8Z29hGNLLEUvmDSnro8w8bNT7VNIijky4WprpOjrHH6N6RTsutY3En9o0P6SqORT+dstrnrMi1N8ahr87rVrH/r2nZarwbWoVFiTMIJ0ihqC4m9O2OjjVfdFm/MFKHlWT0RYYowz8zZ6SbAr1T9j2xT2xHmIs2ffDRrs02Wiw2MIMBkXaNeLWvaKd3q26D2ya5zDPKEpBMTqrm5iHjVb/fygCBE/lZcbKvTdjicvwBnETOjr+QacboH4my5rvMfTmplZ6jjiI/MadAZc49w7+RP2+ul7MIEEqfDDyQjK9ce/XSFrVJnBi8f2yHZ/u+YZjZj5Vb72/jVDv+mdarZebqmR8lFiNDBvf/DZukmN2cEudPpN1IHSEfXQp3//We1c3kF+QTbyZMm29ixY23w4MHWvfueL5GEzCHbSZMn2Q8zfjCI+dtvv7XRo0dbXFx+Zwppn3rqqZaYmOiSpG7paek2btw4+/zzz118Ooaqsm5atGhhJ598sh133HFWp04de+211+ybb75xnQZEPm/ePJfukUceadu3bzdGGnQAP/nJT5wuXbrUXnrpJdeBMPrgHPE3b97syBi30vHHH289e/bci5gh6vPPP9/eeOMNe/LJJx3ZF0XeW7ZssXFfjLMF8xdY8+bN7bTTTjM6Fy8lQyAeS37Cqgl218Q77Ms1X8kiVkS4TTe1E95UEyUfLf7Q7pp0l327/jtrVLO+ta3d3rbIt//V2q/twxXvqLNYbFf3vcaRPVE/UIfw2IyHbEcWJqgOKO0XZo1ynzpoWrORs+j3leiZdP2PiPud2XofkxoUwiTedwz1JUe1rGUj+zVyZIb1u2Rjlt390XJZfTnWQRZ/R+n6rdn24dwt9tmiNGumRnu+OoawdeYSUoN/UcSQFF9FTUckKstrmho7xHB+/yauU2CS9COV4ztNBlOWRDXsjbJcR38vS0mNP0+NHAZqUrua/ah7/VIR/TwR9Z8+WGZTlHZ2hOifmbTOXlKZuFQQ/RNnt7dz++V3atvla/5w5iZ74JMVNl3lVABros6McoxXB/HmzM32rY7fPSJFnWFiqS17OpEnx660Z79aYxtFpHGMEpT+bJH5x8KSerbXnAZWOUQPyT/2+Ur77/T1KkOe9ZIFXV1W7mRdq4/nbbFJSzIcGZ/Ws0Gpy5Kluo5Rnnfpum5RuY5Vfily1y3WtXbzNTo2X779nbr+Gtu5ywkZ0+G89P0G3fO6orpem3WtTlKHEyZ6XILvCsd5ESOCUcgvBzV1ncc/p+lZssyd1lQjgf5t6hQQPYsBHvp0uU1alG6dmyXZAHUAjDK+0P21UR3ckTIo6HS5d8ICAb///vuOwCHT+IQ9R30QPS6b5559ztatW+f066+/Ngg3sJpxgUDcAdFnZWa5NCFTJm7pQJo0aeLi4iOfNm2as8h//OMfOzJesmSJmx8gXN++fW3ixImOiIO5gB9++MGRO/MCdBaU6fXXX3fpUBdIuEGDBm5EQocF8f/mN7+xQYMGFZQxqHP//v2tffv2Lj86FVxQhcnUqVPtsUcfM/KH4KkDnUjQwRUWzx/PRyB+ew4TpPfZl8tF8jJkzut6rvVs2MtmbPjeRi8dLXLaEypcNfdOude+Xf2d9W7W027od6O1qdPG0nak2nuL37NnZj9rz899xro37G6tNMlaLa6a3ECD5BK6UqOGySIquW/U1ka0G+4md+tVr2e9GvXaM5NS/GI4/qPu9dwwfbys+tUilA4aph+lxs7QnQnUYIjMkLZBrXj7hawvXC8Mn7H4cT08KKttiqzfyUszbLgs3b2IXkTau0miXXFcc2fVPyN3wnLl9b185cN75mronmBN1Elcf2Ir+5d86J+L8DMjJD+iWz07QtbigvWZzrWAqwC3SWmE8rYToayXZT9fxKaxu3CvZo1FFo7oZW7iPkDoiFbJbfCIiHX6knRrrDr+XHXu17qWs/Jf/3ajyDXV/vPNeueXvu7Elm4Jqotcwn+fzt5ifxEGacqnncjsGlnujIQ2qNP8QJ3IO7L0sSbFA85FwwTyKOVHZ3uH8jumQ125PKrYLBHoI5+t1OgkzY12jmxTa49RSUmKkyGX2vTlW22LOpyW6kDO0PUb1rme3DI5Gs1ssS80OY9rhs4wENxJ5wuTVvVq2AQR8Ceyvp0AXkhY2XTzj1rbFa8utExhD7iMCljJdfnRTeVWWu3qGI42XZ3XTF1rOrshquflxzVzYaZpRPb2jE3q6BOcqzCUjdvdvEVGwnffOULGrRG9nBkyhxh//etf28yZM+2///2vDRgwwCDpgPCwinGXIJDw2rVrnS8cV8+tt95qAwcOdC6WrVu3Wp8+fezee++15557zrlRzjnnHEtPT3eTvJdffrmzsl9++WW77777bNiwYXbVVVfZP//5T0fsjCaw4gn3yiuv2IIFC+zaa6+1M88807mDcBG9/fbb7hxp0FFAzmFhxQ3loTOgUyiK6KnHypUrLTU11ZWRjo6OMah3OF2/vzcC8XM2z7FP5bLhQ2InND/e7hhwp7Wo3cIWpy62rJ1Z9vb8d/aINWXNFJuyXmQtaZLURASfpgnbOW5NfILWwtdJSLL0rRrmbZjhzjVKamQntjnR+jXtZy/MfMGmrM4n+l/1/JX1lrsmoWqC4dvfV2msRnPBUU3csDstc5kj+gEpte26E1oZ52qpQRcQvdo5x47tmGzTlmXYVJE6K3VovGmy2BEsLdZv7yVyAVwoYsC1wyqNSYszbLkaM0N7huYIeZ0jl8wckdfnIhjkisHN7NLBTeUuqW5bRPzkw1A/KeS3dgGL+QdR3XxKG+cOeHTsKlfPSwY0tePlPoK/8Gl30QocBL8xBDpFJK8HFGy4Rg/XndDSTU7nyHpN0Shm8aYsW6AwL09db1cOaV4qogedN77bYGkideSmk1s7dxSdI5ZyF3W0u0RyuHLoAPHfTxCRZyp8K+cqqqqRlYhQZWa+ATzmqyxMuM7VklbmNUojXN9E1RNZKXfSmxpBzVu33RrVyp+HOL9fEzuqbe2C+4BwPFtxrCZguzSt6ZaqFhA9J0NCONwyd2k0tRSil4B1ijrdk2X9M6KJFuYpEhQGGatOhlFBI3XIyfLRD5Hrp7c6CeZJomXlipXO7cEqFKzWwEoPwvGbc7hcGjZsaB999JFbcXPWWWft4RoJ4kGEs2fPdi4XCBVyx4oPJFjeyKgA3zppJ9dNdpY61jzE3LFjR+eP79W7l+GbJ2/IlfkB3ERY7/ymY7ruuuuc35/027Rp4+Ix2sAanzt37l5ET7hgZECYogT30YgRI1xaKSkpdsQRR3iSLwqwqHPxrGd37hq1rX6N+7lllNwoPRr2sN6Netvbi/Yk+mXpS/NNRiX0zYZJtjBtQUGSPGS1dadcJprbwWe/Sw9EIUkif9QROve/tLE6CSz+/RUaeV1ZXZBF0NghXNa7R695h4Tek0X1sCzdhSK6RDXixrKCxUm2QNYgEvhro8uVpLDdtCqDiTf8rfh+XXjFDXcLnCOME5XtMhF9R40EEMrVimHTPggkCpEzKoBIEMgfv3CEUwpSZY396lSRsIi2poi2h0YudDRAXz2hig2U6wAXFUQ/Q6MSwpdKFHwRRB3pEM/o3aBgwpX6U6Z7Tm/rJjDBjNEFrguAWimyfGHSmoIH2LD403FpiQSxsplgLq0wkX5Cl3o2VvMXk9R5fyU//Vfq5KroOjTUuTZu1VWeXX6sOjSVLxAeouOahI8F58JbyD48GuAcZF8t4u8Ph2X/GJH5CI0y/6ORExhzzWTRqA1U1T2fYEM2JDv3ENclLPi2IV/cH7hZChPaZ0DmhIn+HcSD6LGCmcCEcF944YXgVMEW3zuTstGWMW4ZhC2jhKTEfCOCcgUum4JEtEPHQDqBEIZ69OrVy5EzFngsadq0qSv/Gi0lLUrocK6//nrXITGfQEcSlLGoeP5cPgIahUZufDU4VsY4NtA5nlrN1tOre7CYjteI5z1X+XJamzPsxNYnBj/ddqduLp587d24t4i9/h7nyvpHhvypgTujkxrZjZqggzzxZz/wyXL7TC6HwgSSjGfNnwRijSZXdyL6n8JF+2Gjg5T2t8s7EilHBI0rJCChTI0sWDVCmMRqlJhrusvStLIECzsY2WzRZHIwCqmHCyk/aCTVkm0gLZeR8sf11VjzDoFA9riZwJUOKkG4BU8m99BxCJfVK2HJUTkh+r5yL5VWuCxMAP+fnisYIR//KnVyS9SRz1u/3fnpN2zJsuXqbJi/aKLJ3f2RTJUToXNkzX3Q2YXTxN3DXEOfVrVtnbBZsilTHWOWfavRyjz57xl1tNXIJproIWbcLUWRfDgf9oNVN9HHg99Y3bhITjjhBOdWCY6Ht/jz27Ztq8sZ+0YorCMJp5GWlhb+6fbptDIyMhwhR3ckQeCgrtSjKIHUcT+xKqiwlTxFxa/s5+Lxx7vJV3H62JVjtTLmC+vbWJMwaybamJWfu8nTrJ2ZxoNUEPjRzfS9Cdqows/eNMuu6XONda7fxd2gyzOW2SfLPrXxK7+wmgk17cgmRzp8WbK5ZtsatxQz6DiWamRQp3odWdWJxpO3uHD2RWhwTKKx6oMJQiRVxMbkH7+b1GHInE8qO2QuTluliUl1aq1l4Z7ao4Hza2NxBUREZ8Dae1am4FZguR4CqW7QqhkIEvdOmsIhbNOlzerocX2FITwre5woH57UTd4a55bXNVZZ9vL954cs8X9WArFUD/lGbqfeWrGCdTleLgJWkPSVW4CnO7vKJVFV7oFdKuvHWnUzWCtaBnWo4zB5Tk+CzhAJIsfL+gzScwdK8A8+OEbpjZE7xrLz7PZ3ltrDP23nyJZVJfiiX5m6wfnmr5BbiPXpKQ2q23j55OdqMpKO4OSu9dyoiGv1vSaFRys8q5BY1YJw7fD340bD9ZMtbBFcTlxHOjTmBPCXg/+bsp5HTVrrXEi/0xwAx1nqesc7S+wj1X+9lt7SESKkxNJKlnluVXm5rgj7yzZnqnxVXNkayvUTPHlcW50QEWev3WZLVQZI/v1Z8uurXLiouGdIn5VCrIx68JOV1rFRDbvttDZuJRJpM+L49X/m2TblvSoygnQZR/5BuBAiLhYIvygJyBeCZTkjK14Q9pctW+b85Lh/unbt6tIkHO4OVtMEQsfCMk783/srn3zyifO148KhbBA3E6cff/yxs+xTUlJiZkFHgGClFyWsLnrggQds+vTpzm3117/+1Y0ivFVfFGq7z8W3SW5jF3X7hf1rxos2c8Msu/iTn1u7Oh1sSfpiW5q63N3cK9JW2w3jf2ejh7/mXDvX9bjWHvvmcZu+7js774NzrUeDnrrfd9nSjCU2K22OrBxzE7A7tUwTAn/2+2fsn7NH2byM2fmtTPfwFeMus9rxdax9nY5229G32bDWx+8uVSn2WFnxsFY4fKjJwRVquMgrmlj7WiQIgZ3Rs77dd2Z712DjZRW01eTbEllW4+Wjv+Tf84wGjOX3fWSVzkcizFrvL7O/nt/JPlBDvl2+WSRbhMSELcs5Z8gqe3duvvX/msLQmdwgPzXE+7DWe09fo1U3EJMa6znPz1YnIsteLpTLtCzv/+TK2R9h8pklmsjjImweEINglomsdu3Y5VYV3ajJww5y61yjvJ6Qm2qSJqkve2m+dZULiU5qquqao3rUVWd31dDmjnhLW6aLtfLkbeH8vVwl72q7YMN269Qoyc1BzFXHCYmyhNM9aSqMWZk0eelWrV7Zate9uUgdwXrXAdMpzpQ/ne0ATaDTUWTLamYl1V++WOV8/mtV1hzhj1z04lyt1pFPXoT6kJYonqIH41imybtqZqvDeExh6bjpiBwudNQi4qbqFAJ3G501K5jw5eN9In3kK90Tv355gUubSfonRnaUuy7fZTFAPv7vdH0XKu0zn5kpK7WKTcdokGwR9o9r3qSV8mAin7rPk+ExbUWGmzw/XdY9bsTJzJkov0S5/RiBRAuuDsiep0axhosS1r/jQ//000/dMszOnTu7CdH33nvPrYC5+uqr3eRp+w7t7fTTT7cPP/zQ7rnnHjvvvPMcUeKTHzdurH3wwYdueSQrZ7Cu586Z6yY58ZkHr1/Aima1DxOsCGXD989KmkDoSC666CL3gBeTqnPmzHETsbhkeKirW7duQdA9tqRLh0P5i5Lvv//epkyZ4rDBDcVqIdxCnuiLQm33uXheVnbnwLvUKDJt9MJXZdGstGVbVrrXE3Ss385WZi7XJFquzU6fY5m5mSLMBLtj0J3OhfPojAdtyeZltmRLPhmSbFXdvz/v8gsb3n64JrzyrYw129bazC0iee5d3ejIZs3ub7Z0rWzL1YNa+b16/pnS/afRLtPj6ytkOQdp54kUlkeIYaWWVwbCZBjumqvfWGzZIpYPWWkhEm6sRni0LGGs3ExZgctkdbKMboOG2CwddKLfy0Qa63SMddqaqXaH80Sc7r06IqfNsupmiLSyhVf+SbNl+o2skm+WtfD7KxDPT7RkcbbKukHlhNxcvbUqp7+I8s8/aeuyoENgApaRyt8mrrFlCr/MYaQLIKLsrbB3ydoc0C65wKVTmrKlaEnmixd1tRveWGifzE21uer85q6mrqRf1foKdyZ5+ymfKjrKMwcPi5j//NEymyjCY9VOgegaHCE3x1VaucNEMaM0lrzOVoesYVJBMHZWimidaJ6CTmsPUdabtmS7VU//miKfMPearktD+egfOrNtwUoX3F0rdV0XRTr3gjTUyayWIjvUA7BsM5Crh7awtzS/s1bW/HfqENTbWDet6Fqna7qJtHRvsMonX6ixRHmPUUc8Rpa8hl34ezR/FWfn6voFy2DzA+b/ZzKUCc9Zs2Y5Qgv81+EwwT6uFpZgPvTQQ3bNNdc4woOAmaRlJc4pp5zigjao38D+8Ic/OLfH//73P0e+LMFk1ADB4vsmPpOs+MAJw0Tr73//e7v99tvdefzrzz77rOtYGDkwamC1Duv8jz76aJcPZI4l/9zfn7PNmza78uBHZyXOJZdcUrDcMyg/W0YtX331lSvH0KFDw6f22mdEwBwAcw6MSjp17uRJfi+UCj/g3kfPBOTWHVtt0ppJNm39NHcBWNfeqV4n9zBUWnaa1Ze/vWv9rs7VQnJY8KzYmbZ2qm7yRQ70lrVaOXdNx3odnesmyHadiH5+6gJZXntbKXWq1XFLMZPi8y2nIE5Jt1h/PBG7Ug08erRLc+skK7aFGnqk6TkLkYddeMAKtwtPQ0JG+NKXKR1cCbwyoZ18qFu1QuZbLZ9Ue3DCJCjpEWapOhd4RPe2c0uwTI+HcGaJ7Hi4KlrwaXdumuhWoUSfK+1vJpXna139t7IYsYR5eIty9dKj/DU1+RjUlXSxaheI5Kct26qHlLKc64jOgoeDeIAn8NuXtgxBeCzwb7WckOWNPIFaR9Zqb5Wjp1xKTJDT+AMBr42yflm//63Ks1UjkOREdQoieV5D0JjwCkO4tfJtL1bHlCX3WSxhaeaR8ucHK32maGQxXS4jLPHViusmo5VSe11HJp95Shp3DqJ+xE0QLxCGsVM3hw2T3YwcAlkoHD+Xe4zVUz2po+Z51qk+PD/BaIHwPCnNip8PtPa+k35zjt856pNY/sqy3z4qd2Hv68Elceeddzpr/LbbbivSX5+dI///Yo2i1TFA3Fj5PHEKwQa+b8oOoXIeVwoPPTHpSyfSpUsXpxAnljGvI+Bp2GCeACubp1CJg6+/Xbt2Ll2scMgeouf64hI699xz3Yhh8eLF7h09TOBSDkYphVndjBBw9ZAfyzPJqzDBFcQoYtHiRdamdRu3FJMyeSkeAV2jKv7DI8XjdNBCFEYysTLcTZexzu7/sfJUlv2vTcVNAVfH8OHD3ZOokyZNMl4jUF4FgqbTgKxHjhxpf/7zn11RIf/CyD2oC8YlD37deOONTm+++ebglN8eYATg+Xxn7wFO2CdXNAJY5Azz3aqNooO6s8ES0uiVKiWIWqIguJTSNXopqWC9Yrnu72igpPlVpnBY2jyExMNN7777rv3sZz8rt9Xnoamx8vPjw+fJVl6hwGQyIwFee1CUpKWmOTcSYS+77LKigvpzBwABT/QHAMTSJsGE3qOatJ0g91FJhKdff31sc7tQD2sdDHlG72x5EZ92CeX8Ixvbb+X/j/XQTwmT8MEKQQBrmFcT447hadHyTPRMiD7+2ONu+SZP9KK4bHiHTXFET8eAq+bW2261+vXL1zLsQi5NhT7sib4MLh/LIVlbjp+5JMIDWIF/uSThSxuGtEtaFtKOL93bG0pbnEofnpU3f7znj7Zi+YpyjQWTvrxpkweyAsFl06xZs+BnoVvmEnjNsn/wqVCIDugJ76M/oHCWLDFWCvEWTCYySyKsnGFNd/AmzZLEKU0YJj53rxgpPiavWOYBKe+6KR4rH8IjUNYI4KP3RF/WV8Hn7xHwCHgEDiIC8PzutWMHMSOftEfAI+AR8AiUHQKe6MsOe5+zR8Aj4BE4JAh4oj8kMPtMPAIeAY9A2SHgib7ssPc5ewQ8Ah6BQ4KAJ/pDArPPxCPgEfAIlB0CnujLDnufs0fAI3CYIMCzBCV5vXRZVdcTfVkh7/P1CHgEDgsEsrKy3Cca+YZvYV/SKuuK+idjS3AF3Mubsja7VzTzts3KJHzVJ3ibYUnqXVx40kKLe+lVSfKqrGEEn23ZvEsf4dC7/H/IsbS0XfpwRxU7ekA1O7JfNX2EZM8nrnn76qZN+iDM1Pzw27flWeMmVW3AwOrWpWu8XkWwZ3hw5Rrxxkjegqll2BUaal67zDt4ou85cPnuuxzbmhH7lX6NG1exNinxesVy0fXnRXQffPCB+3hK9Bs1lbXNnpVjE7/O1nv/uU5mxx5Xw3r1jhe2sdOlvJS1sK9yRV8MrhPXqKjwnuijUYvxe9q6afabsdcYr19+6LiH9b3bxjFCHX6HeGnVq6++arXr1LYLzr9gr4YSrjHEwA3/4osvutfWnnzyyeHTBfuvvvaq+7jFDTfcEPMd5QUB/U6hCMyfn2uPPJBu74zKtC16C6Q+QKjPKlSxxvr/h8fr2OVX6NvGkU9Jqp+26dOy7c6b02zyGH1RKxI+TuHbtYizW+9Ltp+clahvC+9JOnxLdtSoUe6zfbx7pygSKbSgxZzgzZd8mYp36wfvtS8mSqlP87UtvpXL+/l5ZUO408rW19EuGbnJli6K/YT6oOOr2b0P1bW+RxT+9TtIef78+cbHUHjHT/gLXllZefa3v2yzZx7KsOXrd+rT3PnXqWXyVvvNnbXtyqtr6t1Ae+JOBV955RVLTU11r37m1dNFCdeJNsq3BfgmQGFf6vKum6JQjJybsnayTVw5ycavGmcrMsr3+0dKUJ0SBcHnyFeJnnvuOduRtWOPBhIrAW64Z555xn24oqhX6078eqJ7y2FxX1CKlYc/lo/ALFnxr4nkeZv+sGHV7dyRSdZAxL1SVHLHtam2ft3u7yGkp++yF0dttw/HZNp2he/VLd56dU5QaLM5q3LsobvTbfGivd9cikXJNXrwwQcdGR8M7HnrJYYBr2M+GMJnCrl/P/roI/fhlTDJB/mtEsmn6ZN4+gyL+0Iqlm+g1TQyqlrMe53orMaMGePeuz9w4MA9jKH3382yp/6YYfPX6xvavRLsxpvq2BG9E2xxWo49ckO6ffLx7ncEBeVhy4vhKPebb77p3vsfPhe9z4dg0vURpyeffNJdJ6z7WFLhiZ6PmPNN2i1ZWyxtR5q+MZqj21kfWtCxuZvn6nOH021j5sa96s73b9dtW6fv3s62OZvm2IbtfON0b5BIK1thtXEfTOeDKxwL/sIJ79i5w1J3pFpqVqr7YhfnsHS35Wxz5UvPTnff3Q3iuHPZ21x44hCfdCnHwtSFruzL0pe5j7wQli98Uc+MHRkunc1Zm9x3e2fp271bs7HVYg9Bg/xKs+Xtgn//+9/dl4eOPfbYIomess2cOdP+9re/We8+vd37yWPlRTgsj8C9w+9AY4XnGDfumrVr3Kfp+DwdowzSCIT4fASDjoYtPlLKTgMkLh/SIN6WLbJ9FRbBCoNkCM8x0qNjIw3iBOGCPMrbtu8R1eypF+vZB182sjfea2gvvlzfrpCFWEsWfaoIa/Hi3fcxVc7MlMtA5353c20bO7mJjZnU2H51FV9eq2LfL8oWRjt1TfasJW+W/NGPfuRw4etS4H4gBJz5LCBfiuJThdwLGAYc542dfLjkQAjXEAJ+6623bPDgwe5LWYWlmyBsLru0ln01t7F9NUfKVvrMC/X0cZXCnR6UfcmSJe7e5+MrfCEskF36us1772Takoxca1Mt3v7zegO758/J9vYnjaxL8wRbobgvvchHjfZus4yG+eLX/fff7740VtT9yEiLkUq9+vXs3//+ty1YuCAowh7bwmuxR7Dy+QPSHbNsjN369S2Wlp2qy1XVbup/izWRa+Uv3/3Fxq75VF97yrHOyR3t7dPfcR8x5ytXP2z8wZ6b8ax9uvxjW7tjtatcy8Q2dlb7s+2SnpdY+7rt9bW9OFu1dZV9vfprEe40F2Zz9gb7TB8/X5y22FlETWs2s54Ne1q9GvUc0V437lr7as0E1yEMbTHMnjnpWdeR/OLjn7mOp0liE7u81xV2YdcLXXoTVk2wR6Y9bHP4zKLkF10ustPaDbf7p9xnH614z9JytlvX5M52+1F3WJcGXe1Pk/9kMzfNsDrVku3oJkfbTNXj641furgDGx1jz534vOpY9Lc3XeBi/kGAkydPdl/0+e1vf2sdOnQoMgbEyZeR8E+edeZZew3zmaziFba4dviKERbI+++/X+C64WZNSUmx3r17F+STuzPX5sye49wH48aNc0NZTkIOfELvyiuvdJ+Wgxh4nzkkzSfy2K5atcq5Avim6sSJE923TnEP/POf/3RfSeLbqbgMOI9bgg9P80k7ykk5zj77bDvhhBPcMDyWFVhQyDLaadsuztq2y/8iGwSdk5NnCXLV5Ftt+rB5nd32W+3aVezXIvWBg6vbGWcmyhVTRR2ZPqzeJs74yGOGjAPi55PJbjcC9eYtlHxv9p133nEf+b7wwvz7dn+qzfXnrZV0xBgQEDzXEFceLhBwZ39/hY6d+4Zv2UL0fIawMKHWiUlVnRsFf32dZLnBGse5uQsNbAoVRgx8/JzPNw4ZOmQPY0j2gm1wIyuNoobpO88N5FxTRvXqVbHBJ9awuS9m2LyZubo3d+lrX3sOG/ioO64mXgPNt3x/97vfFXz8PVZheCV0/3797fnnn7dvp39r7du3t2oJ1fYIWuGJfkPmevtm41Td7aqXbvpnZ/zNVm5bYSu25RO4RrM2b9MCG79ivHWo29GmrJlsl312mc3dOE/v0U6wlKT2lrkz0xakL7IHpjygTmCGPTb0ceePHzVrlN3+5e3Omge1bfqI9C3jb8UQctKlYWd7dMhj9uO2P7YMffd2fup8m6N0KUeTGk1c41m3fZ1N3/SdPkJqtihxoQ3fenp+ZP1fq08sLtQnFudvWujivFvtXXtu5jO2PGOVvruqAKrTnC3zbMyKMda4ZhObvn6qLd2y3JVn6hp1PnId6m3HpoGAjV86wW776lZ7dcRrBenv6w7WGzcwn4E78sgj9xiOxkqTRstHqVu3bu0ab3QYrOzHH3/crUyg4eES4OYNSJQO4rTTTrOnn37aHYN0pk+bbnfffbez8oYOHSoXxTBn/dFBPPLII+7zdv/4xz/cu9B55S3H6XBOPPFEZw3RyCERGgwN4Y033nC+T75kRPgvvvjCkT2f16Oj4dupSUlJmuCc7s795je/sV9d/ivjm6vlVbIy80QGOTbhyx32r6e36gvMefbTEUnWof1u4sAH3K9/NadBPbZs2WWLFuQ6ktdHBPUJwjhhsJvkg3D4e48//ngD5/Hjx9tZZ51V0DkHYUq7pXM944wzHM68bx+jgnutf//+rlNheyBk7ty59s0337hPDkJ8wb0WnTa1ztYo6N9PbrV3/7PdtmqSu36rODvj/ET75aU1RZrxuv+jY+V/SpXRInlggbdr226PQMSpkZh/aNGsnbZBhJ6UVMVNnC+aD1mJEjQpzvFoouccuDOSwl9/xRVXFEn0jL4YUTRo0MB1brQX2m5YKjTRx1eNt2NaHmsPDHzARs36h81dP98mrp5s7eu1tTv632414hLty1Xj9U3mnXZMq2Nl9afZA988YHM3zLOODdvZTf1utQHNBzhr+5W5r9hfZj1mHyz+0Ia1HmZX9L7S2ie3t6Oa99Pwa7FtSNvsyLdT/Q5WJ4GVN1WsR4MempjNnyxpIiK+/eg77PKtl9niTUsdxlX1zrgjmxxp9w34s908/pYw7m7/uFbH2d1V77Fbv7rZ5m1YYJNXTbHaNWvYNb2vtl4Ne9kHSz+UiybbTk75kfVu1FvHf2MPTL/P1qdusuZ1mtjvj7jRlfGWr26yWRvm2GuLX3ejCUYj+yMQ95QpU9z3RLt27VpsUvhYWUPco0cPWSz19gqPZQhpY2U99thjrnHgFsICR/AHN27SuKAx0hngn2QUAOH+8pe/tOS6yUK8io0YMcKuu+46Gz16tJuE4mtMfMiaRkd6TzzxhBtOb9q0yRH4HXfc4TogLHtcAwjfN6Wz+frrr53VyrdZjznmGHeOujzwwAOukUE6Q4cN1fv3S9dMGNKjBRaCSzn8D98v3xgoXbrhFNhftXqnPf5whr3+Nt73PGsu6+DnlySJYPYmbcLjxsmQxfrGayLX0VkcsjN/lmStWmtqNkYUVty0bNXSkQYuCiYcS3I/uIQL+Yf1y6cSGb0x8qKTxxCgg6azxz+9v4KhQHkZITBBihskllDnuo2q2iathkF4xWO8Ds5ekWNzHsyRoZBnv7+xtu6RvdtT9o5sN4fFPUfZo1f0cGmP0Aqoz97Jstkrs+2eO9NshEZUX36xw8ZNysceD2RuId9Exhjha2MTJkxwbq5Y7SpcJ77URT1pt9z7hxXRU9HWtVvbcLk7Jqz60hF95wYd7d7B99mpbU8V0dewS7MudQTRMLGhLdiywN5b+r6Yxax5zRZqGruchU86DZMaWIvEVrZk23Ibt2Kc/aLbRfbTjj+1wc0H2fM/PG/3fPUna1KrgT10zCPWq1EvoljNajWtXvV8YoPUT2xzorWq1doWb17qzvMvuXqyDW8/wm6esDfRN0lqYmd1PMtemPkPR/RW3eyRY560i7pf5JZyjuxyrvPLN6zRUJZ7nPVvdpS1qtnaEf05Hc6TC+gCdTRN7LPln9oszTMwamCOIm4/vgyCvxpCXrt2rQ0aNGivG6agYqEdfK40UD42HctyojFzIyKQPh/W4DujhU3aslKCNPnyENY2bpWwkA9E+umnn7rP7nGOfHHrsOoBS5QGyMessXI4Tlr45cPCOb7ghNUflJtGCwHdddddzu0D2RdWznBa4X3i46IobMKZOrVq1crhFY5X2v26dava8SdVF/Zm30/KFqHk2v13pltXTbh26rQnYULyqam77O23suzxP2XI/Zhrg/pWt19eVlPXeG8iC8pSu1ZthyNkTL32l+hJl+vwv//9z1avXm24BhkNMvnYtm3bPdx3QRlKu2WehQ+Ps3IFwiuMJBnFnP+rmrZsSa4dp0lt5j6WaP+pRzJs3MQse+/lTBt+emJMogeLL7/80gYOGlhwb4fLiVFy1tmJNmVitn3yYZb955Vt9vormQz2NRCvosF6nlXTt9DrhNxs4fi0Ge5fDBTmmIr7Yhckz/2McYRLic4uuKdJd/9MinDJysn+Ca1OskHNBllifP64qVFivsWNxbNJk5fOxSOin7D+S1uxdXlBqQEGF07D5LpGpwBxV4urZq3rtLH6ifnD92pVq1uzWs0sJTmlIF5hO+RXIKHdgmMxdnrV62kjO490+XKaNfuFrdtvWaul1Y6s6ae8uncOiECgWNRIrVq1nMVVXMI0KiyawhpUdHywLkq4UWmkWCZMpjE0DQtl5MbHVVSUsCIhWAdO+cKTuMSjft26d9ujQdA4cOPQaBglFEbWReWLz/+ll14qmFeIDkt9Tj311P0mevy+l11e0y6QVf6uLMc//CLVJs3YYR9/uGMPogdu3DVvvp5pj9ydYQu02mbYoOqanK3jXDrqdwoVCIdOks6XUduBENKB7HFPsFIFy/Whhx5yeIfnafY1L64ZeXDtucZ0rLFEp+3GW2q7OQqeQ+Da9+gZbys1Of21CHrB+lzbuIHnSDAkdqfA/cuKNOSUH51SaPqduyTYrXfVsbZy/8zWSindgpai/c/eyLSFm3OtkTrYpjFGC6RLWVhaSR02bNjAoSIF4wYDirbDXFO0HHZEX60qH62OfWFrxmsCK3LqqAZH2wVdfmY14gMS0UodrYBZu32tDWk5xGpVY1VCvsRHXCG5eblaTbPdHWRlDK6gbYpTv0b9gvD05AgrbLghXAfDqp/80aE7V9i/6upI6GBKItQxCIsL60ARPXkHRBy2CIoqU0CgJQlP2tyIQZxY6UIukCGTwJdccomzfqPDkU7btm2jD+/xu7jy4MNft3bdHtYP6TJHwaQuPvvoIfkeGRTyg9UXEBhpxBJGP8VNcMeKxzEVz5hQt1QAABlTSURBVLkUWAPOgzz44JM1edi9e4LVbKB7T7bMimXYjflCeEj+tdEi+bvSbcW6nXb68ES7+rrawjXOpkzOVoeT4B6gCpNZEJ/7ChzBBT0Qgp/+4osvdqMuMO7evbtzxwWjvv3NI7+c+WUt7h6QLaB7LX+ilHwJD6aMh7KlsarM6IbRZK9evdQx9CBaTAHP/kdpNNslXkbLLtdE58zOtRee32aJciscq1FE9PML4YSCey/fDRg+U/g+dadtwTsBFxG6QhM9ZLs8Y7n88l+LoNe42i9JX2Jjl4+1ujXqioDrybfdx1nIVLpJzaZ2RJM+Nn3td7Y9d7s1kiXcp0lf+eXi3cTo1HXf2LL0pbZ+exe3pDGAs47cL8i6Hevtk2WfcDcozHr7fsN3tnrrajuvy/k2tNVQS1AnU7d6XZ03m5k208atHKuRRZL9d+5/HdHjtiX9lVtXGhb58vTltihtketcSH/Tjo32+fLPXBw6IPz7tRLyOxw6DlxPm7LUaUjmaenoyoyV7oIuSl1c0JF8sXKcOqqhoQ7MBS/xP26uwHfORBnD4OL8pljy3GAlsfiCdb+swCEeNyXWOz5ViLFPnz7OvcME2tSpU11ZIE0IAYGcWZrHcJYGRzjyDmtQWbcUNtRSgzDBeeYiWFEC0TBMRvBD40pgVIN1GeQbxCnJFgLAx1pYZwaZgMO+CKtCvhi3wz0R26lzvHXWk63VtOJm7Jgs2yIyQVrK5x7I9u159qpcBg/fli4rMsc6NU6wPkdWk0WdZ39/dpt9/n6W3fKnOnba8Bp7PVFLGrk5uW6VFOXdFyyCcoS31L9t27bhQ9a3b989fu/PD+7XGrJuIUjuYa5DLKueDvCjD7K04kZPwLaJ12qlKvpO704b91mWaeGjtU6It7r1dncCQZmY+MdyZr4oenVLECbYcvvRIdeTm232nFx77MEMN/k7sE8NO1OunaIEFyp1KMnH06knIxmseoykMMmTR4Um+i07ttjoea/Y32c+a4szljnM3lvxjpYg/uBIFzJ9+bRXnCuGk/jLf9P3t3bjVzeIpH+wW76+yXo37OvC0mFM3TzZctWNd9ckKxO4gXSq18nwn+/SiOipHx61j5d9bOsy1+rhqVVuhDCg2QDb1fI4F5z9t5a8bbsyzX4//vdu4nbc2i/yRxKabH978ZvWR53P//W81N5a+Jb9a/ao/FU5ir04band+OUNstTjnO//4SGP2iDNESDzt8y3/875jy1NX+F+/2/hf6xbw+62SmT/7tI33aodTtw84SZ78ZR/Ww8t+9wXgei5sfB1c6PhPmFoXZTgt6VDKMkaaFwuNDpW2LCSBnJn3TurXcjnrrvucn7Vk046yR1j0pZOAULnpl++fLl7wIZVFeecc45169bNETNuFpZtfv755678kMnMH2a6iV/yQQjz9ttv26mnnep+kx5ulnvvvdetLuIg5cAvyuQsy/Ki3UYuYjH/IJriOsdikij0dKped/D+u5k2SlZhSpM466ynNnmFwdTPd8iY32kd6ifYcUPyOxFIZo0mbB+5PZ/kSXS9ntB8+e/b7JVR22318lzbIkLDPSEujCm4WMCN+wFLvCII2Dds0NCRHm5FSDn8xGpQhxnf59gNP0u1xPpVrH0vkXr9qrZy6U6bOj1bA/8qdvKFGlV23JMi129Yb++++65zHWKUFCWLFuXa1G9ybLNeP7Fq5U77cswOGz8ly/p0rGbX/L6W5jv2nEcJp8UKMtxldFIlGf0xp0Z7Ze4HdxX3f1j2rEX4TEXY142crcnHbK1MaZaodbKRDnJ7bv6kW/0c+dYVJhB87sPbjXAPJr224DX7Vssy31z2lgtTMz7Butfpace2OM5Ob3+6JeHmiUjX+l3thr6/tzcXvWErti+177ZMs+T4ZBvQ9Cgb2nKYDWox2HUWBP9Jh5/Y5LWT7dNVH9r0zd9ak+oN7fTWI4xloEszllhtrdjhYS2EFTUZORl7lJ3fCO4YLNBA8vTMAMea1VI9dZjRAzcBD3PVrVbf4pPzbxoeutoVihfEL+mWGwRLG2uWRrJgwYJiif6oo45yFioPTWHVc6MVJqyTvuCCC9yKl9mzZ7slkeSJhQch0yBpqPhv6QRYFsnEHZYKeOD2wR/JBCqdQVp6mnswBtLGCmfZJOvs27Rp4yZxWT45YOAAN4nIigTeSYJ/HMEPzzpxRgY8PQmpQews/zvvvPMsJSVlrwZTWL0O1XHcNIOOrW6zRFJzRCJM9CFq2jZ0QA27WJOLTMYWiNp7st5rk7J997HMLdxXeZacqHmVhDh1rLx3pSBGwQ6Y0snSubIiBkwrgmCsMH/DKG3RokXu+sYiep43aNEjzhZpPft4jZJABUcur4Y49kc13PJK3FthGfP5GJfe9ddfX6wRMPGrbHv2qa22Vg+w6VVZVkNr6C8cWctGaunmSUq/kKkDlx2YM3LFDRiMNsPliN6nnXKtGBnFmiuLcXmjkyi/v3HPnC+3Sb+m/fZwtQQlxndepzpLIfOF4Uz9xPp2gR5Y6i+SXiAreWPmJhHILjex2ap2K+tUX8uakpru4ednQvT6I39nx7c6wdZsW+OeXCVdwvNwVTB5Sy4dZf3fPfCPduaGM+Wnz7DG6oC66mEnntplBFI9rroxQsC/fqZW3LCCZ4ce4ooWVgz1bLTbKu9Ur7PdNfDu/AllBWYJJenuyNVa8ZRTCjoP4nWo1yE6uVL9Zgkca4NZqoiFi2Ub+AtjJRSsn4dUsZB5EKYwYRUEyyMhakYLTDZBuJAI5wL3AGXg3R24QRYvWWybNu4Oi9UCCTPyoDO49tprCyagGBXQMC699FJH6JStVs1advXVV7tVHjT4wNrBRcXTnzQmrFY6EVbYkDYP2FC28ia1a1e14SNqaIQTp+WDuZYq9wMPQNXXxGwX+YJ79EwocMFUEcmzouaRv9aTVRvbZCfMkXLlxHrBFh0fnSOdH505S1wriuDv5xkQlicy0sSVFlz3oA489frQX+rqvObbUnH/mSXpnT+tWsa5l721FMnjrw8Lrj2eRGXVWHHSU689+IXW4uMmY9RFelyjlLZxMfEOp8dKM+aKRo4c6VaNhc9F72P9z5gxw4U/7rjj3CRudBispEorWoqYp9cT5GlCNU+EmScLuUgs5M7Jy8rNysvMycwjblFCeqRbXLii0iirc7Lk8nSj5elmzpP1nScSLLIohNe69zwN7fP0IFSe3DhFhuckWMunmKebtFjcCSNCz5MfMo+89lfIV08R5ml1TZ7cNC7/4q79/uZ5oONzq2Zl7coTgefpfTZuv5jbt1RFAA9ZiXlaYpunkVOe3Gulil/Wgbln9B6dPBF+np7hyNN8TMwihXEEy+3bd+keixnUHdSzGHlyGxYeIHSGZrBtW/41YltUuqFouqYZeVr2m6dRbp6WcBZ7z1MejWLzhg4dmqd5rb3aE6RfsiUee3UPh8cBXCG4aJISkvInbDFvihCscCxyJkrdSpciwuImIt3iwhWRRJmdwnrH982DRawHx2etG7HQ8hAenzaTU1giTJQWJ1hXuGiwmqMtrei4hAkmmYoaWUTHK+w3E7A8cIXFxMugeOCKOQN8ohVFuFV5HTGvNOA1B+wXc/uWqmpM7LFOHIxwtZXEfVCqDA5yYO4ZXIEoT/XiwoklYRzBkolT3c6FSpeuXdzooNAAoRO4ZngalnTZFpVuKJpza/JwH6/n4CHEou553Gs8+MeIFOufkUys9lRElcJZ+/3KhgAuDFwnuFjwfRdF9GDDS5WuueYa95AVN115FhoRK31wFy3Rah/e64PbiWNe8hFgcp1VSRdffLGb8yiPbqzirhWuQN6DhNsGF19x93Bx6XEeYy8WkZYkbknD8DAW80gQPfNRRQkdMivRmJfC0ApWzEXHqcKQIfqg/+0RAAGsBUieGzvWBE80SpADZMk6+OJu0Oi4h/I3D6CwQifcYFk+yFzBvqyyOZRlP1R5yXXjiJ5RV2mfDD5UZSxJPtyTzAWxQKAwEixJOocyDKtnENpQrGWh4bJwnWijCNcplvWv+7yKJ/owan6/0iCAfRMQffTDJZUGBF/RSoEAPO9dN5XiUvtKRiMQkDzHox8uiQ7rf3sEPAIeAY+AR8Aj4BHwCFRiBE5T3VnK0b8SY+Cr7hHwCJQxAuXviZAyBuQAZd9Z6fxb2k7KI6vBm9O068Uj4BHwCHgEKjICWjlrL0pZp8dqJpR3u7aSevEIeAQ8Ah6BCo7An1R+njPn3bQBybON/ey5TnjxCHgEPAIegYqFAF8H4JWXvFEtXRqQ/Xrte/EIeAQ8Ah6BwwgBPlAJyfMaSrbTpF48AhUFAb+AoKJcqVKU06+jLwVYJQz6mMKNlL4i5X3EC6VePALlHQEWEEyR/ktaV+oXEAgELx6BWAico4OjQyew6O8I/fa7HoHyhoBfQFDerogvT7lHAGIPy2D96BY+4Pc9AuUIAb+AoBxdDF+UioEAljwWvRePQEVBwC8gqChXypezXCAQ7bIpF4XyhfAIlBABv4CghED5YJUbgWiXTeVGw9e+oiEQjEafV8H5riULCbx4BDwCIQSCRhI65Hc9AhUGgejRqF9AUGEunS/ooUIgupEcqnx9Ph6BA4VA9GjULyA4UMj6dA4bBKIbyWFTMV+RSoGAH41WisvsK7k/CPhGsj/o+bhljYAfjZb1FfD5l3sEfCMp95fIF7AYBPxotBiA/GmPgG8k/h6oyAj40WhFvnq+7IcEAd9IDgnMPpODhIAfjR4kYH2yhw8CvpEcPteystbEj0Yr65X39S4xAr6RlBgqH7AcIuBHo+XwovgilS8EfCMpX9fDl6Z0CPjRaOnw8qErIQK+kVTCi36YVdmPRg+zC+qrc+AR8I3kwGPqUzx0CPjR6KHD2udUQRHwjaSCXjhfbIeAH436G8EjUAwCvpEUA5A/Xe4R8KPRcn+JfAHLGgHfSMr6Cvj89wcBPxrdH/R83EqBgG8kleIyH7aV9KPRw/bS+oodKAR8IzlQSPp0ygoBPxotK+R9vhUGgTuLKGmczsUXcd6f8giUNQJ+NFrWV8DnX+EReFY1+GOFr4WvwOGKgB+NHq5X1tdrvxAojXVeRTnxXc3x0upSrHukmpRzYSksXcIGUk87KJIoreX2/D+PwL4j4F02+46dj3kYIXC/6nKZ9EIpjQI9S4pA3rdJg+MMgTtIEQg+OB5s1+lYsnSC9CppIKdrZ4W0tvRU6T+kx0sXSYn7gJSO4WUpefyfNEhzhPa9eAT2BQHvstkX1CpBnMKszsO56pDvc5EKQs4XS5tJId5npBdLz5Vulb4vbSodJh0l/VJ6sbSm9CHpRulOaWCVa9cJVjsKvknSSyJ6j7Y1pF2lVaUbpNdIGW5fLe0nvUFKvrukXjwCJUWAewh5NX/j/3sEdiNQGYkeYl4p7S9dK+0tzZa2l14sPU46V3qlFBkrJc5XET1S29bS16RY4RB3LKETyAidOFb7E6RY7J2kxA3kfO38T3qG9FEpnQMdjRePQEkR6KaAI0sa2IerXAhURqKHRB+UQvLIlVKI/Cf8kOB/R9ZLT5N+yI+IYPUTH2uc/TBZ62eBcI74WOXsfyn9Woq8K/3A7eV3GPO1/3rkd4K2taRsvXgESoPA3aUJ7MNWLgQgrMooYbcIJI8End4L2u8hbSKFkHHdMFGKQOwT3d7uf3GR3R27D7kRQuin60iif5NmR+lT0pzwSb/vEahACPxcZR1WgcpbKYtaWYk+1sWeFDm4XVuIF1cOQ+HV0kulgaRpBz9/IISfI/0/6SApNz2jg7DbRj8LlVijAiaFvVQ+BDAaAoOjItQet+VN0m4VobCVuYwV6aY6UNcJCx33S7Ss1IHjpWOkV4dOPql9rPxAjtROfSkuGQSiZm39J1L8+IGQHvkwKdtYGoTXrhM6CNw74bLM1G/CtpIGriXteqkkCPxV9VwnvaOS1NdX0yNw0BDopZQh0sIEYm4tbSOtGyNQQx3rEuN4o8jxFtq2kw6IhGmpLXnGElb7hFfsYMkzKvA++lhoVbxjpTGkMAT29xmNcH7cV8G9hZuQuZ8DLVj0s6RXhRKOHo3Snrx4BDwCHoHDBoH7VZPLpIfqGY0U5bVIOlg6Wsrocp4UUn9ZyjFcihxHWfEVSxiR8vxIIDW18730p5EDjIIZ2ZJGuvQPUkai0UQ/RMcYkQQdDOdJ52IpQidAPkF5KF8HqRePgEfAI1BhEHhaJQ1I7ErtT5Fi7WKtj5JybqT01Mj+eG3xy0PUF0nHSolzjnSYFMKOtpjP1rGATJnMJ030NenV0uBcQMycowyjpORXVRotd+lAEI9zP5YSDzdlSmQfgqfs+OQ5108aTfSUO5wOHQblp1zFYaAgXg4WArEu+sHKy6frETjcEdipCjI3g0sOf/u30mxpe+nF0uOkY6X9pQj7xGFu51/SH6RM/kPanMuVxpKNOpgROgGR0gG8GTkWjne+jj0tfUuKWzFJGi3/04HG0mOkEPLlUsqENX69lDp1ko6WTpSul86XRgsdQFioGzJDWhwGLqD/d3AQCPv0Dk4OPlWPQOVBABJ9ULo2UuUrtYXsDtYzGmQD6f6bHckqKWS+S8o8E2Rckmc0cPe8Lb1AukzKg3u8xgN+OEH6gjSoU7L2kbj8TbH/sfq3S3tEQjKqQCj3adLwcyoc93IQEPAW/UEA1SdZqRGAZAMJLNrAoIIwIbwD+YwGeYVJF2s+UYpb5ylpjrQ4wRL/i/Q8KVb8Yuln0kBSgx1tsc4Lk2DidUckAPXPiuyXBIPC0vXH9xMBT/T7CaCP7hEoAQKTImGwbCHe9tKRUtw0l0oDSdNOWT2jgUtmdqQgt2qbKYWkP5fil+8rpYP6hbRx5Lc2TnA5IXOknMNdhHvq59JuUupcUgwU1ItHoPQIYO0E1kRpYmMVlWcp7+Urz9gdrLK9p4RvKCTxYTqO5RzWJ/SbCctA7tMOFnXYQj9Jv8Nx2F8hrSXtGjlXT9uw4GcfKw2XpYt+ExcCLkx+qxPrpOHOpq1+L5JGl4H0KQPhgzSra3+CNDosxI+UBIP8kP6/R6CUCDyr8H8sZRz8itzcJ5Qy3qEKXt7Ld6hwKG/5HOpnNOgkBkljjcyb6Xi4A4CECZsgLUwwiLDIowWXTHcpnQV5kW6KFGkuDadJJ9Ve2lnKcyjHS+tLAyGt1tI2Us578QiUCgFuvqFSbqxAsGyel46XcqNzExYnVRWgjnSW9BYpaZRESJ+GEAi/AylJvkFYttQlaKRY7lhOgexr+YL4fusR8Ah4BCocAsNV4vDQkqEkJAnBRw8hOQeJI+F4H+g31k5gKUfHe0fnIFjI+zZpcH609jtIEVYqkP4RUtIjzJXSByP7E7UNEzbh6EwIly69XEoeyMtS0v4/aZAXD7sUVz4F8eIR8Ah4BA4vBPANQoSjpMdKWUu8QoqPcbD0IulY6RTpOVJ8hJDpXVLi/UMKgUK4kDlDUH5D0JA26bLMjCE5lj2/iTdSempkf7y2WOwXRH5zHuKeFvnN/hORfSaykB5SwkHmA6WPRn5TH+RJKefRq6SjpORTVPl02otHwCPgETj8EIDYIcMHpEdIE6XRAmm+JQ1cMCnaDwhUu474mUD6FT8iAqFC/pcGB7TFciceHUoj6Z2R33drixwl5TyjC0YU90f28UPSudDZXC1FKNMrUiz846XklS5tJUU4T1osd0MYLZBuMCKIVT7CefEIeAQ8AnshAAFVZPlchX9B+gcpFvR26dHSQCD3JCn1DIi+n/Z5qvAdKcLkUG0p5BkIxxBcNYFghSPjpeulV0pPk94lRbbkb+zEyD5LziDwNOku6STpyVI6oyFSRgWUgzq8K+0iZTRCWZmsmi99XYpQNkg+KGOs8hHOi0fAI+AR2AuBik70kCt+bEi8vXSG9CEprhQEqxjfeLSwRnhb5CBrhSHhMBZ0GKwJDkt85AcdC6TfRPqBtKkU8u4tpQNIlSI7pH2lwcoCLPLO0iAfSP5CabKUdcprpBA8aXWUPiVl/XEsiVW+WOH8MY+AR8AjUEA6FREKiJd1y9dKe0ohTCQg2vxf+RY1Fnsg32unsfS3Ulws+Mixws+VBmROB7FJGhY6AwSShYDpWEZKV0svlUZLrg4EljfnVkkhfY59IEWw9ilDfykdyDfSoKyUIVqCEUas8kWH9b89Ah4Bj0CFRwAr/kUppBdW3ClhuU8/IPfAyufc76ThOLhY+N1HiuAiIc4N/AjJMO2H47H/hLSm9MdS/OwQN4JVvk4a/KYzCc7jTopeFUTYIVLqNVYazhu3DnnRISCFlS//rP/vEfAIeAQOMwSaqz59pZA0FnO0NNQBiDJaWuoA8XDBIN2kEGggEDUPnUQLFjkuljbScH6MBrDyIWqE9F+T4ltHIPczpGErv5F+k04LaRBPuy7foIPgN5Y8yz9LUj7Ce/EIeAQ8Ah4Bj4BHwCPgEfAIeAQ8Ah4Bj4BHwCPgEfAIeAQ8Ah4Bj4BHwCPgEfAIeAQ8Ah4Bj4BHwCPgEfAIeAQ8Ah4Bj4BHwCPgEfAIeAQ8Ah4Bj4BHwCPgEfAIeAQ8Ah4Bj4BHwCPgEfAIeAQ8Ah4Bj4BHwCPgEfAIeAQ8Ah4Bj4BHwCPgEfAIeAQ8Ah4Bj4BHwCPgEfAIeAQ8Ah4Bj0AJEPh/c4k7XPUIhcQAAAAASUVORK5CYII=)"
      ],
      "metadata": {
        "id": "UcwiCgg_0CO4"
      }
    },
    {
      "cell_type": "markdown",
      "source": [
        "Podemos declarar as funções de várias maneiras e as vamos observando ao longo da explicação"
      ],
      "metadata": {
        "id": "SFZuuAQb0KdY"
      }
    },
    {
      "cell_type": "code",
      "source": [
        "def anoDeNascimento(ano):\n",
        "  print('nasci em:',ano)"
      ],
      "metadata": {
        "id": "2KvoMj3w0gLs"
      },
      "execution_count": 107,
      "outputs": []
    },
    {
      "cell_type": "code",
      "source": [
        "anoDeNascimento(1994)"
      ],
      "metadata": {
        "colab": {
          "base_uri": "https://localhost:8080/"
        },
        "id": "IqfzHgyD0rFv",
        "outputId": "42fe3d00-b623-44da-c7c7-231c702f34bd"
      },
      "execution_count": 108,
      "outputs": [
        {
          "output_type": "stream",
          "name": "stdout",
          "text": [
            "nasci em: 1994\n"
          ]
        }
      ]
    },
    {
      "cell_type": "code",
      "source": [
        "ano = int(input('nasci em:'))\n",
        "def anoDeNascimento(ano):\n",
        "  if ano >= 2000:\n",
        "    print('Geração y')\n",
        "\n",
        "  elif ano >= 1980 and ano < 1999:\n",
        "    print('Geração x')\n",
        "\n",
        "  elif ano < 1980:\n",
        "    print('Boomer')\n",
        "  else: print('Fim')"
      ],
      "metadata": {
        "colab": {
          "base_uri": "https://localhost:8080/"
        },
        "id": "Dq2eTcKY00c0",
        "outputId": "28f8cae3-1aec-4b4d-b659-ef51ec5b1ad6"
      },
      "execution_count": 112,
      "outputs": [
        {
          "name": "stdout",
          "output_type": "stream",
          "text": [
            "nasci em:1994\n"
          ]
        }
      ]
    },
    {
      "cell_type": "code",
      "source": [
        "anoDeNascimento(ano)"
      ],
      "metadata": {
        "colab": {
          "base_uri": "https://localhost:8080/"
        },
        "id": "hdcEGAfL1-Bm",
        "outputId": "a4f9ff07-510c-4f30-f0f3-5630efac4eb9"
      },
      "execution_count": 114,
      "outputs": [
        {
          "output_type": "stream",
          "name": "stdout",
          "text": [
            "Geração x\n"
          ]
        }
      ]
    },
    {
      "cell_type": "markdown",
      "source": [
        "##Parâmetros e Argumentos\n",
        "  - Argumentos de funções são parametros passados para a função dentro do parenteses para serem utilizadas dentro da função"
      ],
      "metadata": {
        "id": "PMIaKzLc3FPf"
      }
    },
    {
      "cell_type": "markdown",
      "source": [
        "##Parâmetros"
      ],
      "metadata": {
        "id": "f70OjRFM4ynI"
      }
    },
    {
      "cell_type": "code",
      "source": [
        "def minhaFuncao(param1, param2, param3):\n",
        "  return param2"
      ],
      "metadata": {
        "id": "FaCaQ8_03cdQ"
      },
      "execution_count": 117,
      "outputs": []
    },
    {
      "cell_type": "code",
      "source": [
        "minhaFuncao(1,2,3)"
      ],
      "metadata": {
        "colab": {
          "base_uri": "https://localhost:8080/"
        },
        "id": "sSsiGzk63ua5",
        "outputId": "c1246e6f-b4fe-4ee6-ff37-c1b7ff19fe39"
      },
      "execution_count": 118,
      "outputs": [
        {
          "output_type": "execute_result",
          "data": {
            "text/plain": [
              "2"
            ]
          },
          "metadata": {},
          "execution_count": 118
        }
      ]
    },
    {
      "cell_type": "markdown",
      "source": [
        "Neste exemplo nós já passamos **valores padrão **para cada parâmetro, note que eles podem ser alterados, porém mesmo que não seja passados novos parâmetros na chamada da função (  *minhaFunção2()*. ) , ela será executada normalmente.\n",
        "\n",
        "Este é a forma mais util de declaração e a mais comum."
      ],
      "metadata": {
        "id": "Z2mSIwv64Opv"
      }
    },
    {
      "cell_type": "code",
      "source": [
        "def minhaFuncao2(param3=3, param4=4, param5=5):\n",
        "  return param3"
      ],
      "metadata": {
        "id": "mDylaIjL3_0a"
      },
      "execution_count": 120,
      "outputs": []
    },
    {
      "cell_type": "code",
      "source": [
        "minhaFuncao2()"
      ],
      "metadata": {
        "colab": {
          "base_uri": "https://localhost:8080/"
        },
        "id": "VAGgsm2O4Ihs",
        "outputId": "5ba4257f-1b13-4a1c-8ba7-f15deb734a9c"
      },
      "execution_count": 121,
      "outputs": [
        {
          "output_type": "execute_result",
          "data": {
            "text/plain": [
              "3"
            ]
          },
          "metadata": {},
          "execution_count": 121
        }
      ]
    },
    {
      "cell_type": "markdown",
      "source": [
        "Na linha de código abaixo, alteramos o valor padrão do param3 , é uma tratativa possível também."
      ],
      "metadata": {
        "id": "g-DMxths82WO"
      }
    },
    {
      "cell_type": "code",
      "source": [
        "minhaFuncao2(param3=5)"
      ],
      "metadata": {
        "colab": {
          "base_uri": "https://localhost:8080/"
        },
        "id": "NJuxHjB78vf2",
        "outputId": "b7a84272-bb49-4fa5-f910-f4b070a602d8"
      },
      "execution_count": 125,
      "outputs": [
        {
          "output_type": "execute_result",
          "data": {
            "text/plain": [
              "5"
            ]
          },
          "metadata": {},
          "execution_count": 125
        }
      ]
    },
    {
      "cell_type": "markdown",
      "source": [
        "##Argumentos"
      ],
      "metadata": {
        "id": "dSdfc0gK43eY"
      }
    },
    {
      "cell_type": "code",
      "source": [
        "def minhaFuncao3(fruta, *args, **kwargs):\n",
        "  print(f'Temos a fruta {fruta}')\n",
        "  \n",
        "  for arg in args:\n",
        "    print(arg)\n",
        "    print('_'*40)\n",
        "\n",
        "  for keyWord in kwargs:\n",
        "    print ( keyWord, ':', kwargs)"
      ],
      "metadata": {
        "id": "eKPaW1Wy--77"
      },
      "execution_count": 170,
      "outputs": []
    },
    {
      "cell_type": "code",
      "source": [
        "minhaFuncao3('maçã',\n",
        "            f'você gosta dessa fruta?',\n",
        "            'Não, prefiro doce',\n",
        "             'qual doce?',\n",
        "             doce='brigadeiro',\n",
        "             local='loja')"
      ],
      "metadata": {
        "colab": {
          "base_uri": "https://localhost:8080/"
        },
        "id": "oZbUPnsN_Sz4",
        "outputId": "ce8259bc-dd54-4445-d3b4-20dc132ad032"
      },
      "execution_count": 172,
      "outputs": [
        {
          "output_type": "stream",
          "name": "stdout",
          "text": [
            "Temos a fruta maçã\n",
            "você gosta dessa fruta?\n",
            "________________________________________\n",
            "Não, prefiro doce\n",
            "________________________________________\n",
            "qual doce?\n",
            "________________________________________\n",
            "doce : {'doce': 'brigadeiro', 'local': 'loja'}\n",
            "local : {'doce': 'brigadeiro', 'local': 'loja'}\n"
          ]
        }
      ]
    },
    {
      "cell_type": "code",
      "source": [
        "def minhaFuncao4(fruta, **kwargs):\n",
        "  print(f'Temos a fruta {fruta}')\n",
        "\n",
        "  for keyWord in kwargs:\n",
        "    print ( keyWord, ':', kwargs)"
      ],
      "metadata": {
        "id": "EGZYLAkX45fy"
      },
      "execution_count": 154,
      "outputs": []
    },
    {
      "cell_type": "code",
      "source": [
        "minhaFuncao4('banana', doce='brigadeiro')"
      ],
      "metadata": {
        "colab": {
          "base_uri": "https://localhost:8080/"
        },
        "id": "cBHU-nFh5O5F",
        "outputId": "401c7781-bcf8-49f2-b15f-d4a3f2f1607d"
      },
      "execution_count": 155,
      "outputs": [
        {
          "output_type": "stream",
          "name": "stdout",
          "text": [
            "Temos a fruta banana\n",
            "doce : {'doce': 'brigadeiro'}\n"
          ]
        }
      ]
    },
    {
      "cell_type": "markdown",
      "source": [
        "##Funções Anônimas\n",
        "  -Pequenas funções anônimas podem ser criadas com a palavra-chave lambda. Esta função retorna a soma de seus dois argumentos: lambda a, b: a+b. As funções lambda podem ser usadas sempre que objetos função forem necessários. Eles são sintaticamente restritos a uma única expressão. Semanticamente, eles são apenas açúcar sintático para uma definição de função normal. Como definições de funções aninhadas, as funções lambda podem referenciar variáveis contidas no escopo:"
      ],
      "metadata": {
        "id": "6VKZBcAdBx9v"
      }
    },
    {
      "cell_type": "code",
      "source": [
        "def incrementador(n):\n",
        "  return  n + 1\n",
        "incrementador(1)"
      ],
      "metadata": {
        "colab": {
          "base_uri": "https://localhost:8080/"
        },
        "id": "C3bfb3chB4jm",
        "outputId": "c9fe5f54-69ef-415d-9350-25a63258762f"
      },
      "execution_count": 176,
      "outputs": [
        {
          "output_type": "execute_result",
          "data": {
            "text/plain": [
              "2"
            ]
          },
          "metadata": {},
          "execution_count": 176
        }
      ]
    },
    {
      "cell_type": "code",
      "source": [
        "incrementadorLambda = lambda n: n + 1\n",
        "\n",
        "incrementadorLambda(1)"
      ],
      "metadata": {
        "colab": {
          "base_uri": "https://localhost:8080/"
        },
        "id": "Lvfyz-_bCJce",
        "outputId": "cb84456f-0284-46be-8753-f5b8d8776e04"
      },
      "execution_count": 180,
      "outputs": [
        {
          "output_type": "execute_result",
          "data": {
            "text/plain": [
              "2"
            ]
          },
          "metadata": {},
          "execution_count": 180
        }
      ]
    }
  ]
}