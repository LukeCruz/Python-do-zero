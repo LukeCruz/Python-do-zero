{
  "nbformat": 4,
  "nbformat_minor": 0,
  "metadata": {
    "colab": {
      "provenance": [],
      "toc_visible": true,
      "authorship_tag": "ABX9TyPAHpeyqzJFB1hE+9reYd4O",
      "include_colab_link": true
    },
    "kernelspec": {
      "name": "python3",
      "display_name": "Python 3"
    },
    "language_info": {
      "name": "python"
    }
  },
  "cells": [
    {
      "cell_type": "markdown",
      "metadata": {
        "id": "view-in-github",
        "colab_type": "text"
      },
      "source": [
        "<a href=\"https://colab.research.google.com/github/LukeCruz/Python-do-zero-/blob/master/Python_do_zero.ipynb\" target=\"_parent\"><img src=\"https://colab.research.google.com/assets/colab-badge.svg\" alt=\"Open In Colab\"/></a>"
      ]
    },
    {
      "cell_type": "markdown",
      "source": [
        "\n",
        "\n",
        "# Variáveis"
      ],
      "metadata": {
        "id": "TvUXzvbihDUG"
      }
    },
    {
      "cell_type": "markdown",
      "source": [
        "O que são variáveis ? variáveis são itens mutáveis ou não , que são declarações feitas para se 'guardar' uma informação . como por exemplo o nome de uma pessoa."
      ],
      "metadata": {
        "id": "Xp--WgWrhPzu"
      }
    },
    {
      "cell_type": "code",
      "source": [
        "meuNome = 'Lucas'"
      ],
      "metadata": {
        "id": "HoXm_GrUjb9B"
      },
      "execution_count": 61,
      "outputs": []
    },
    {
      "cell_type": "markdown",
      "source": [
        "**Como criar variaveis no python**"
      ],
      "metadata": {
        "id": "hgEpESvvUTTq"
      }
    },
    {
      "cell_type": "markdown",
      "source": [
        "Exitem diversas formas no Python de declarar uma variável ⭐"
      ],
      "metadata": {
        "id": "W_8v6AGgUlQM"
      }
    },
    {
      "cell_type": "code",
      "source": [
        "variavel = 'olá mundo !'\n"
      ],
      "metadata": {
        "id": "2ybnC6jZqpAy"
      },
      "execution_count": 77,
      "outputs": []
    },
    {
      "cell_type": "markdown",
      "source": [
        "Declaração de uma variável"
      ],
      "metadata": {
        "id": "b8c7dgCvq1E4"
      }
    },
    {
      "cell_type": "code",
      "source": [
        "variavel"
      ],
      "metadata": {
        "colab": {
          "base_uri": "https://localhost:8080/",
          "height": 35
        },
        "id": "ue84wKnTqqXj",
        "outputId": "403472ea-849f-4916-fd38-0bebfcec8c11"
      },
      "execution_count": 78,
      "outputs": [
        {
          "output_type": "execute_result",
          "data": {
            "text/plain": [
              "'olá mundo !'"
            ],
            "application/vnd.google.colaboratory.intrinsic+json": {
              "type": "string"
            }
          },
          "metadata": {},
          "execution_count": 78
        }
      ]
    },
    {
      "cell_type": "markdown",
      "source": [
        "Declação de variáveis distintas"
      ],
      "metadata": {
        "id": "_sLBsr-hrBjH"
      }
    },
    {
      "cell_type": "code",
      "source": [
        "var4 = 4\n",
        "var5 = 5"
      ],
      "metadata": {
        "id": "yK6JZgj2rFKz"
      },
      "execution_count": 83,
      "outputs": []
    },
    {
      "cell_type": "markdown",
      "source": [
        "declaração de mais de uma variável ao mesmo tempo"
      ],
      "metadata": {
        "id": "s7KqbYuaq4pB"
      }
    },
    {
      "cell_type": "code",
      "source": [
        "var1,var2,var3 = 1,2,3"
      ],
      "metadata": {
        "id": "EsXD3ZOrqtWP"
      },
      "execution_count": 79,
      "outputs": []
    },
    {
      "cell_type": "code",
      "source": [
        "var1"
      ],
      "metadata": {
        "colab": {
          "base_uri": "https://localhost:8080/"
        },
        "id": "BYajgmniqtZG",
        "outputId": "efc87405-0bb9-4765-a3c0-d441e5d63ab4"
      },
      "execution_count": 80,
      "outputs": [
        {
          "output_type": "execute_result",
          "data": {
            "text/plain": [
              "1"
            ]
          },
          "metadata": {},
          "execution_count": 80
        }
      ]
    },
    {
      "cell_type": "code",
      "source": [
        "var2"
      ],
      "metadata": {
        "colab": {
          "base_uri": "https://localhost:8080/"
        },
        "id": "I-0QKdCsqtbi",
        "outputId": "483d620c-7ff7-4c9c-eebe-be24cb20f620"
      },
      "execution_count": 81,
      "outputs": [
        {
          "output_type": "execute_result",
          "data": {
            "text/plain": [
              "2"
            ]
          },
          "metadata": {},
          "execution_count": 81
        }
      ]
    },
    {
      "cell_type": "code",
      "source": [
        "var3"
      ],
      "metadata": {
        "colab": {
          "base_uri": "https://localhost:8080/"
        },
        "id": "Pfmeq6IDqteF",
        "outputId": "765d7e45-7fb1-44e3-b49b-9761e2fd9a2a"
      },
      "execution_count": 82,
      "outputs": [
        {
          "output_type": "execute_result",
          "data": {
            "text/plain": [
              "3"
            ]
          },
          "metadata": {},
          "execution_count": 82
        }
      ]
    },
    {
      "cell_type": "markdown",
      "source": [
        "Existem diversos **tipos** de variáveis que podemos declarar \n",
        "\n",
        " * Inteiro - int\n",
        " * ponto flutuante - float\n",
        " * Texto - String\n",
        " * Lista - List\n",
        " * Tupla - Tuple"
      ],
      "metadata": {
        "id": "4CN9QmDyndhv"
      }
    },
    {
      "cell_type": "code",
      "source": [
        "tipoA = 1\n",
        "tipoB = .1\n",
        "tipoC = '1'\n",
        "tipoD = [1,2,3]\n",
        "tipoE = (1,2,3)"
      ],
      "metadata": {
        "id": "gK123mhineo2"
      },
      "execution_count": 57,
      "outputs": []
    },
    {
      "cell_type": "code",
      "source": [
        "type(tipoA)"
      ],
      "metadata": {
        "colab": {
          "base_uri": "https://localhost:8080/"
        },
        "id": "HM2EqNuAnsZz",
        "outputId": "e5b3a09d-746b-4079-8679-da5ab7293793"
      },
      "execution_count": 60,
      "outputs": [
        {
          "output_type": "execute_result",
          "data": {
            "text/plain": [
              "int"
            ]
          },
          "metadata": {},
          "execution_count": 60
        }
      ]
    },
    {
      "cell_type": "code",
      "source": [
        "type(tipoB)"
      ],
      "metadata": {
        "colab": {
          "base_uri": "https://localhost:8080/"
        },
        "id": "V-sFhjxDnz5I",
        "outputId": "8cbf610b-291e-464a-82d6-9a89182e58cc"
      },
      "execution_count": 61,
      "outputs": [
        {
          "output_type": "execute_result",
          "data": {
            "text/plain": [
              "float"
            ]
          },
          "metadata": {},
          "execution_count": 61
        }
      ]
    },
    {
      "cell_type": "code",
      "source": [
        "type(tipoC)"
      ],
      "metadata": {
        "colab": {
          "base_uri": "https://localhost:8080/"
        },
        "id": "OadVVWxZn06P",
        "outputId": "77009f28-1fc4-40ca-b3f9-4383abc96393"
      },
      "execution_count": 62,
      "outputs": [
        {
          "output_type": "execute_result",
          "data": {
            "text/plain": [
              "str"
            ]
          },
          "metadata": {},
          "execution_count": 62
        }
      ]
    },
    {
      "cell_type": "code",
      "source": [
        "type(tipoD)"
      ],
      "metadata": {
        "colab": {
          "base_uri": "https://localhost:8080/"
        },
        "id": "1spL-RqNn2hl",
        "outputId": "6dc9c9ae-9db4-4811-c487-1983aa363014"
      },
      "execution_count": 63,
      "outputs": [
        {
          "output_type": "execute_result",
          "data": {
            "text/plain": [
              "list"
            ]
          },
          "metadata": {},
          "execution_count": 63
        }
      ]
    },
    {
      "cell_type": "code",
      "source": [
        "type(tipoE)"
      ],
      "metadata": {
        "colab": {
          "base_uri": "https://localhost:8080/"
        },
        "id": "hdbbYmqFn41O",
        "outputId": "29236087-3d91-4f09-ad07-962eefccea5c"
      },
      "execution_count": 64,
      "outputs": [
        {
          "output_type": "execute_result",
          "data": {
            "text/plain": [
              "tuple"
            ]
          },
          "metadata": {},
          "execution_count": 64
        }
      ]
    },
    {
      "cell_type": "markdown",
      "source": [
        "Python é uma linguagem **tipada**, ou seja, você não precisa necessariamente declarar o tipo de uma variavel."
      ],
      "metadata": {
        "id": "2Pfh0BFGc2vm"
      }
    },
    {
      "cell_type": "code",
      "source": [
        "ab = '1'\n",
        "a,b,c = 2,2,3\n"
      ],
      "metadata": {
        "id": "2SRPkIMfUZwh"
      },
      "execution_count": 66,
      "outputs": []
    },
    {
      "cell_type": "code",
      "source": [
        "type(ab)\n"
      ],
      "metadata": {
        "colab": {
          "base_uri": "https://localhost:8080/"
        },
        "id": "Yj_Xx7vJdCA2",
        "outputId": "bf574af3-0390-4dc1-8497-f7f138249ede"
      },
      "execution_count": 22,
      "outputs": [
        {
          "output_type": "execute_result",
          "data": {
            "text/plain": [
              "str"
            ]
          },
          "metadata": {},
          "execution_count": 22
        }
      ]
    },
    {
      "cell_type": "markdown",
      "source": [
        "**LISTAS** - Listas são aglomerados de itens ou variaveis dentro de um 'espaço' \n",
        "  Por exemplo , uma sequência de numeros dentro de uma mesma variavel declarada se torna uma lista."
      ],
      "metadata": {
        "id": "vFrZjwvji--w"
      }
    },
    {
      "cell_type": "code",
      "source": [
        "lista = [1,2,3,4,5,6];\n",
        "  \n",
        "display(lista)"
      ],
      "metadata": {
        "colab": {
          "base_uri": "https://localhost:8080/",
          "height": 34
        },
        "id": "TgQPKJnNeEzE",
        "outputId": "556bbde5-51ba-405c-fb4f-9de2755d2c94"
      },
      "execution_count": 60,
      "outputs": [
        {
          "output_type": "display_data",
          "data": {
            "text/plain": [
              "[1, 2, 3, 4, 5, 6]"
            ]
          },
          "metadata": {}
        }
      ]
    },
    {
      "cell_type": "markdown",
      "source": [
        "**Operações matemáticas utilizando Python**"
      ],
      "metadata": {
        "id": "XyjAwtgBeDLu"
      }
    },
    {
      "cell_type": "code",
      "source": [
        "variavelA = 1\n",
        "variavelB = 3"
      ],
      "metadata": {
        "id": "vSMJCOpEeLo2"
      },
      "execution_count": 45,
      "outputs": []
    },
    {
      "cell_type": "markdown",
      "source": [
        "SOMA"
      ],
      "metadata": {
        "id": "TZQwfOglfZey"
      }
    },
    {
      "cell_type": "code",
      "source": [
        "variavelA + variavelB"
      ],
      "metadata": {
        "colab": {
          "base_uri": "https://localhost:8080/"
        },
        "id": "qg2Hv1saeZxI",
        "outputId": "2acc3dec-0bb1-4c83-d46a-0740512c3162"
      },
      "execution_count": 46,
      "outputs": [
        {
          "output_type": "execute_result",
          "data": {
            "text/plain": [
              "4"
            ]
          },
          "metadata": {},
          "execution_count": 46
        }
      ]
    },
    {
      "cell_type": "code",
      "source": [
        "variavelC =  variavelA + variavelB"
      ],
      "metadata": {
        "id": "iiCLozBJefN4"
      },
      "execution_count": 48,
      "outputs": []
    },
    {
      "cell_type": "code",
      "source": [
        "variavelC"
      ],
      "metadata": {
        "colab": {
          "base_uri": "https://localhost:8080/"
        },
        "id": "Bfj304zZefQa",
        "outputId": "0d72a666-ca1f-4b86-a79c-f61f6ceb1618"
      },
      "execution_count": 49,
      "outputs": [
        {
          "output_type": "execute_result",
          "data": {
            "text/plain": [
              "4"
            ]
          },
          "metadata": {},
          "execution_count": 49
        }
      ]
    },
    {
      "cell_type": "markdown",
      "source": [
        "SUBTRAÇÃO"
      ],
      "metadata": {
        "id": "Kg7Xyw4ofcLu"
      }
    },
    {
      "cell_type": "code",
      "source": [
        "  variavelA - variavelB"
      ],
      "metadata": {
        "colab": {
          "base_uri": "https://localhost:8080/"
        },
        "id": "3XDnQcTSefUU",
        "outputId": "9065eb99-7964-4fd1-a3bd-1282514acbc3"
      },
      "execution_count": 51,
      "outputs": [
        {
          "output_type": "execute_result",
          "data": {
            "text/plain": [
              "1"
            ]
          },
          "metadata": {},
          "execution_count": 51
        }
      ]
    },
    {
      "cell_type": "code",
      "source": [
        "variavelD =  variavelA - variavelB"
      ],
      "metadata": {
        "id": "IL3uTXzhfJUn"
      },
      "execution_count": 52,
      "outputs": []
    },
    {
      "cell_type": "code",
      "source": [
        "variavelD"
      ],
      "metadata": {
        "colab": {
          "base_uri": "https://localhost:8080/"
        },
        "id": "2dh6-_BVfTcj",
        "outputId": "e21fc057-28f4-4a84-9382-58bc84790f7d"
      },
      "execution_count": 53,
      "outputs": [
        {
          "output_type": "execute_result",
          "data": {
            "text/plain": [
              "1"
            ]
          },
          "metadata": {},
          "execution_count": 53
        }
      ]
    },
    {
      "cell_type": "markdown",
      "source": [
        "MULTIPLICAÇÃO"
      ],
      "metadata": {
        "id": "_Nkpsg3JffhY"
      }
    },
    {
      "cell_type": "code",
      "source": [
        "  variavelA * variavelB"
      ],
      "metadata": {
        "colab": {
          "base_uri": "https://localhost:8080/"
        },
        "id": "l8bzEhwtfhIV",
        "outputId": "72a03c1d-b291-43f1-d51a-604fa7cabcbc"
      },
      "execution_count": 54,
      "outputs": [
        {
          "output_type": "execute_result",
          "data": {
            "text/plain": [
              "12"
            ]
          },
          "metadata": {},
          "execution_count": 54
        }
      ]
    },
    {
      "cell_type": "markdown",
      "source": [
        "DIVISÃO"
      ],
      "metadata": {
        "id": "t6kLtz4QfnJc"
      }
    },
    {
      "cell_type": "code",
      "source": [
        "  variavelA / variavelB"
      ],
      "metadata": {
        "colab": {
          "base_uri": "https://localhost:8080/"
        },
        "id": "qxHrXj-efozL",
        "outputId": "6ee18286-1127-4e8c-de4d-2e049330eb8f"
      },
      "execution_count": 55,
      "outputs": [
        {
          "output_type": "execute_result",
          "data": {
            "text/plain": [
              "1.3333333333333333"
            ]
          },
          "metadata": {},
          "execution_count": 55
        }
      ]
    },
    {
      "cell_type": "markdown",
      "source": [
        "Divisão com resto inteiro"
      ],
      "metadata": {
        "id": "fpUkYLZmfxA2"
      }
    },
    {
      "cell_type": "code",
      "source": [
        "  variavelA // variavelB"
      ],
      "metadata": {
        "colab": {
          "base_uri": "https://localhost:8080/"
        },
        "id": "Gg3GdcvFf1QA",
        "outputId": "122dee09-a3b9-4a93-89a3-bf2e8c2fb139"
      },
      "execution_count": 56,
      "outputs": [
        {
          "output_type": "execute_result",
          "data": {
            "text/plain": [
              "1"
            ]
          },
          "metadata": {},
          "execution_count": 56
        }
      ]
    },
    {
      "cell_type": "code",
      "source": [
        "  variavelA % variavelB"
      ],
      "metadata": {
        "colab": {
          "base_uri": "https://localhost:8080/"
        },
        "id": "8qn4cL7zgAjL",
        "outputId": "57d04573-6003-4489-832c-5c4cbda6a13a"
      },
      "execution_count": 57,
      "outputs": [
        {
          "output_type": "execute_result",
          "data": {
            "text/plain": [
              "1"
            ]
          },
          "metadata": {},
          "execution_count": 57
        }
      ]
    },
    {
      "cell_type": "markdown",
      "source": [
        "EXPONENCIAL"
      ],
      "metadata": {
        "id": "KgNjI2IJgIs0"
      }
    },
    {
      "cell_type": "code",
      "source": [
        "  variavelA ** variavelB"
      ],
      "metadata": {
        "colab": {
          "base_uri": "https://localhost:8080/"
        },
        "id": "UkrWEljDgLo7",
        "outputId": "69091970-fcc0-4555-9797-dcf413919aff"
      },
      "execution_count": 58,
      "outputs": [
        {
          "output_type": "execute_result",
          "data": {
            "text/plain": [
              "64"
            ]
          },
          "metadata": {},
          "execution_count": 58
        }
      ]
    },
    {
      "cell_type": "markdown",
      "source": [
        "Operações no python seguem a mesma ordem da matemática, e nós podemos utilizar parenteses para determinar a ordem das operações"
      ],
      "metadata": {
        "id": "kIfxTyF2gTm8"
      }
    },
    {
      "cell_type": "code",
      "source": [
        "(variavelA + variavelB) * variavelC -variavelD"
      ],
      "metadata": {
        "colab": {
          "base_uri": "https://localhost:8080/"
        },
        "id": "cGlcaajBgUcQ",
        "outputId": "d7c4a5e5-1338-4dcd-d22f-13531da2e2af"
      },
      "execution_count": 59,
      "outputs": [
        {
          "output_type": "execute_result",
          "data": {
            "text/plain": [
              "27"
            ]
          },
          "metadata": {},
          "execution_count": 59
        }
      ]
    },
    {
      "cell_type": "markdown",
      "source": [
        "# Print e Display"
      ],
      "metadata": {
        "id": "g_7GyS8fjrLs"
      }
    },
    {
      "cell_type": "markdown",
      "source": [
        "Print e display são **metódos** para exibição de informação no Python. \n",
        " \n",
        " Existem diferenças na exibição de cada um desses metódos, porém agora não será importante para nossos estudos."
      ],
      "metadata": {
        "id": "yCQV-R-GjyBW"
      }
    },
    {
      "cell_type": "code",
      "source": [
        "see = 'hello Word'"
      ],
      "metadata": {
        "id": "yFlKe7m4kJqz"
      },
      "execution_count": 62,
      "outputs": []
    },
    {
      "cell_type": "code",
      "source": [
        "print(see)"
      ],
      "metadata": {
        "colab": {
          "base_uri": "https://localhost:8080/"
        },
        "id": "bkPyfj-nkVZg",
        "outputId": "bcd43926-0320-4cc5-dadf-1a0ad8094788"
      },
      "execution_count": 63,
      "outputs": [
        {
          "output_type": "stream",
          "name": "stdout",
          "text": [
            "hello Word\n"
          ]
        }
      ]
    },
    {
      "cell_type": "code",
      "source": [
        "display(see)"
      ],
      "metadata": {
        "colab": {
          "base_uri": "https://localhost:8080/",
          "height": 35
        },
        "id": "q5M0OFnxkVkF",
        "outputId": "b4569872-6e36-4f08-b2b6-00cfbc409dc2"
      },
      "execution_count": 64,
      "outputs": [
        {
          "output_type": "display_data",
          "data": {
            "text/plain": [
              "'hello Word'"
            ],
            "application/vnd.google.colaboratory.intrinsic+json": {
              "type": "string"
            }
          },
          "metadata": {}
        }
      ]
    },
    {
      "cell_type": "markdown",
      "source": [
        "# Input"
      ],
      "metadata": {
        "id": "CuuhSyq1kf8c"
      }
    },
    {
      "cell_type": "markdown",
      "source": [
        "O metodo **input** serve como entrada de dados do usuário, ou seja é uma variável onde o usuário determina seu valor."
      ],
      "metadata": {
        "id": "76-jF2Mmki5d"
      }
    },
    {
      "cell_type": "code",
      "source": [
        "entrada = input('qual sua idade:')"
      ],
      "metadata": {
        "colab": {
          "base_uri": "https://localhost:8080/"
        },
        "id": "M0RME9G0k2fN",
        "outputId": "1e1d5a6f-c09b-4b79-b7dd-f6dced2f4bb9"
      },
      "execution_count": 65,
      "outputs": [
        {
          "name": "stdout",
          "output_type": "stream",
          "text": [
            "qual sua idade:28\n"
          ]
        }
      ]
    },
    {
      "cell_type": "code",
      "source": [
        "print('Eu tenho:', entrada)"
      ],
      "metadata": {
        "colab": {
          "base_uri": "https://localhost:8080/"
        },
        "id": "9mkQ3Wkrk-Mc",
        "outputId": "f6f2e28e-5150-43e3-c4cf-c6798b4bd3f5"
      },
      "execution_count": 68,
      "outputs": [
        {
          "output_type": "stream",
          "name": "stdout",
          "text": [
            "Eu tenho: 28\n"
          ]
        }
      ]
    },
    {
      "cell_type": "markdown",
      "source": [
        "# Comparações em Python"
      ],
      "metadata": {
        "id": "eXEa62YIlb_o"
      }
    },
    {
      "cell_type": "markdown",
      "source": [
        "# Booleanos (bool)"
      ],
      "metadata": {
        "id": "pAHmpbZdwWGr"
      }
    },
    {
      "cell_type": "markdown",
      "source": [
        "Além das variáveis de tipo inteiro nós temos outros tipos como as variáveis booleanas que são representações de valores binários de Verdadeiro e Falso (True e False respectivamente)"
      ],
      "metadata": {
        "id": "X5vFPmZswfEC"
      }
    },
    {
      "cell_type": "code",
      "source": [
        "var = 1"
      ],
      "metadata": {
        "id": "Ag95jMu0whx_"
      },
      "execution_count": 105,
      "outputs": []
    },
    {
      "cell_type": "code",
      "source": [
        "var > 2"
      ],
      "metadata": {
        "colab": {
          "base_uri": "https://localhost:8080/"
        },
        "id": "CcE_sRIjwnU3",
        "outputId": "0bb0a33c-6237-46b6-b8b1-9ab4f01d53f0"
      },
      "execution_count": 106,
      "outputs": [
        {
          "output_type": "execute_result",
          "data": {
            "text/plain": [
              "False"
            ]
          },
          "metadata": {},
          "execution_count": 106
        }
      ]
    },
    {
      "cell_type": "code",
      "source": [
        "var < 2"
      ],
      "metadata": {
        "id": "rFHOi4vRwpux"
      },
      "execution_count": null,
      "outputs": []
    },
    {
      "cell_type": "markdown",
      "source": [
        "As comparações em Python servem para dizer se \n",
        "\n",
        "\n",
        " 1. ✅ Um variável é maior ou menor que outra\n",
        " 2. ✅ Uma variável é igual a outra\n",
        " 3. ✅ Uma variável é igual a outra\n",
        " 4. ✅ Uma variável é maior ou igual\n",
        " 5. ✅ ENTRE OUTRAS MUITAS POSSIBILIDADES "
      ],
      "metadata": {
        "id": "U-u2IuCRli0Q"
      }
    },
    {
      "cell_type": "code",
      "source": [
        "# Operadores de comparação :\n",
        "\n",
        "valor = 1\n",
        "\n",
        "\n"
      ],
      "metadata": {
        "id": "MNeacaBknrgQ"
      },
      "execution_count": 85,
      "outputs": []
    },
    {
      "cell_type": "code",
      "source": [
        " #IGUAL A...\n",
        "valor == 1\n"
      ],
      "metadata": {
        "colab": {
          "base_uri": "https://localhost:8080/"
        },
        "id": "T81cTgA7pyR3",
        "outputId": "3b121272-cfd6-4120-dbc1-46d1bd6837a8"
      },
      "execution_count": 86,
      "outputs": [
        {
          "output_type": "execute_result",
          "data": {
            "text/plain": [
              "True"
            ]
          },
          "metadata": {},
          "execution_count": 86
        }
      ]
    },
    {
      "cell_type": "code",
      "source": [
        " #MAIOR OU IGUAL\n",
        "valor >= 1"
      ],
      "metadata": {
        "colab": {
          "base_uri": "https://localhost:8080/"
        },
        "id": "DPgh8uhHp0PA",
        "outputId": "5e5d47e1-4f17-4a80-8ee0-67da00987def"
      },
      "execution_count": 87,
      "outputs": [
        {
          "output_type": "execute_result",
          "data": {
            "text/plain": [
              "True"
            ]
          },
          "metadata": {},
          "execution_count": 87
        }
      ]
    },
    {
      "cell_type": "code",
      "source": [
        " #MENOR QUE...\n",
        "valor < 1"
      ],
      "metadata": {
        "colab": {
          "base_uri": "https://localhost:8080/"
        },
        "id": "p6GH1levp4nJ",
        "outputId": "ed317d14-8f43-4a4a-ab96-3ac7ce1c0189"
      },
      "execution_count": 88,
      "outputs": [
        {
          "output_type": "execute_result",
          "data": {
            "text/plain": [
              "False"
            ]
          },
          "metadata": {},
          "execution_count": 88
        }
      ]
    },
    {
      "cell_type": "code",
      "source": [
        " #MENOR OU IGUAL\n",
        "\n",
        "valor <= 1"
      ],
      "metadata": {
        "colab": {
          "base_uri": "https://localhost:8080/"
        },
        "id": "YGxZeproxJV9",
        "outputId": "a6eb7fe2-54db-4ac8-c86c-db76c9d79f94"
      },
      "execution_count": 115,
      "outputs": [
        {
          "output_type": "execute_result",
          "data": {
            "text/plain": [
              "True"
            ]
          },
          "metadata": {},
          "execution_count": 115
        }
      ]
    },
    {
      "cell_type": "code",
      "source": [
        "comparacao = 1"
      ],
      "metadata": {
        "id": "bqvz3umsmA5g"
      },
      "execution_count": 70,
      "outputs": []
    },
    {
      "cell_type": "code",
      "source": [
        "print(\"comparacao é igual 1\", comparacao == 1)\n",
        "\n",
        "print(\"comparacao maior que 1\", comparacao > 1)\n",
        "print(\"comparacao maior igual a 1\", comparacao >= 1)\n",
        "print(\"comparacao menor que 1\", comparacao < 1)\n",
        "print(\"comparacao menor igual a 1\", comparacao <= 1)\n",
        "print(\"comparacao igual a 1\", comparacao == 1)\n",
        "print(\"comparacao diferente de 1\", comparacao != 1)\n",
        "print(\"comparacao entre 1 e 2\", 1 < comparacao < 2)"
      ],
      "metadata": {
        "colab": {
          "base_uri": "https://localhost:8080/"
        },
        "id": "Fo5re4XYlhpO",
        "outputId": "4ee01e1a-5e3f-4a15-9d38-359b13b96154"
      },
      "execution_count": 107,
      "outputs": [
        {
          "output_type": "stream",
          "name": "stdout",
          "text": [
            "comparacao é igual 1 True\n",
            "comparacao maior que 1 False\n",
            "comparacao maior igual a 1 True\n",
            "comparacao menor que 1 False\n",
            "comparacao menor igual a 1 True\n",
            "comparacao igual a 1 True\n",
            "comparacao diferente de 1 False\n",
            "comparacao entre 1 e 2 False\n"
          ]
        }
      ]
    },
    {
      "cell_type": "markdown",
      "source": [
        "# Operações DE COMPARAÇÃO"
      ],
      "metadata": {
        "id": "O_CAY4tRwJln"
      }
    },
    {
      "cell_type": "markdown",
      "source": [
        "Expressões de COMPARAÇÃO são operações que determinam duas ou mais condiçoes de entrada sendo verdadeiras ou falsas.\n",
        "\n",
        "Um exemplo pratico é ;\n",
        " *  fruta1 = banana\n",
        " * fruta2 = maçã \n",
        "\n",
        " * Ambas são frutas ? **TRUE**\n",
        " * Ambas são amarelas ? **FALSE**\n",
        "\n",
        "  Esse é um exemplo de condionais, se ambas são frutas , a condição de fruta é verdadeira para as duas, e neste caso utilizamos a condicional **AND** (E) \n",
        "\n",
        "  *  🍌 Banana E(AND) maçã são frutas > AND ( em português,E)\n",
        "\n",
        "  Outra condição demonstrada é a **NOT**\n",
        "\n",
        "  *  🍌 Banana e maçã NÃO(NOT) são amarelas > NOT ( em português,NÃO)\n"
      ],
      "metadata": {
        "id": "kkVbLW39qqqz"
      }
    },
    {
      "cell_type": "markdown",
      "source": [
        "**AND** - Todas as condições verdadeiras"
      ],
      "metadata": {
        "id": "vhTwMjsNv6L1"
      }
    },
    {
      "cell_type": "code",
      "source": [
        "a = 1\n",
        "b = 2\n",
        "\n",
        "print('A é :',a == 1 , '|B é :',b > 1, '|então a comparação é:', a == 1 and b > 1)\n",
        "\n",
        "print('A é :',a > 1 , '|B é :',b > 1,'|então a comparação é:', a == 1 and b < 1)\n",
        "\n",
        "print('A é :',a >= 1 , '|B é :',b < 1,'|então a comparação é:', a == 1 and b < 1)\n",
        "\n",
        "print('A é :',a > 1 , '|B é :',b < 1,'|então a comparação é:', a > 1 and b < 1)"
      ],
      "metadata": {
        "colab": {
          "base_uri": "https://localhost:8080/"
        },
        "id": "cA24MsoctbKP",
        "outputId": "221b490e-c9df-4d59-8624-1bcc194dedce"
      },
      "execution_count": 99,
      "outputs": [
        {
          "output_type": "stream",
          "name": "stdout",
          "text": [
            "A é : True |B é : True |então a comparação é: True\n",
            "A é : False |B é : True |então a comparação é: False\n",
            "A é : True |B é : False |então a comparação é: False\n",
            "A é : False |B é : False |então a comparação é: False\n"
          ]
        }
      ]
    },
    {
      "cell_type": "markdown",
      "source": [
        "**OR** - Uma ou outra condição verdadeira"
      ],
      "metadata": {
        "id": "3cMWmz3yv1HV"
      }
    },
    {
      "cell_type": "code",
      "source": [
        "a = 1\n",
        "b = 2\n",
        "\n",
        "print('A é :',a == 1 , '|B é :',b > 1, '|então a comparação é:', a == 1 or b > 1)\n",
        "\n",
        "print('A é :',a > 1 , '|B é :',b > 1,'|então a comparação é:', a == 1 or b < 1)\n",
        "\n",
        "print('A é :',a >= 1 , '|B é :',b < 1,'|então a comparação é:', a == 1 or b < 1)\n",
        "\n",
        "print('A é :',a > 1 , '|B é :',b < 1,'|então a comparação é:', a > 1 or b < 1)"
      ],
      "metadata": {
        "colab": {
          "base_uri": "https://localhost:8080/"
        },
        "id": "LoZY8WbEuJs4",
        "outputId": "f2b8a10c-d7ab-4d95-e1e5-f641192456de"
      },
      "execution_count": 100,
      "outputs": [
        {
          "output_type": "stream",
          "name": "stdout",
          "text": [
            "A é : True |B é : True |então a comparação é: True\n",
            "A é : False |B é : True |então a comparação é: True\n",
            "A é : True |B é : False |então a comparação é: True\n",
            "A é : False |B é : False |então a comparação é: False\n"
          ]
        }
      ]
    },
    {
      "cell_type": "markdown",
      "source": [
        "**NOT**  - inverte a condição"
      ],
      "metadata": {
        "id": "7cqO8XaVvvPe"
      }
    },
    {
      "cell_type": "code",
      "source": [
        "a = 1\n",
        "b = 2\n",
        "\n",
        "not a == 2"
      ],
      "metadata": {
        "colab": {
          "base_uri": "https://localhost:8080/"
        },
        "id": "lD1O9p7jve1I",
        "outputId": "0fec3455-8a64-4f4f-9198-ad07bfdfe209"
      },
      "execution_count": 104,
      "outputs": [
        {
          "output_type": "execute_result",
          "data": {
            "text/plain": [
              "True"
            ]
          },
          "metadata": {},
          "execution_count": 104
        }
      ]
    },
    {
      "cell_type": "markdown",
      "source": [
        "# Estruturas Condicionais"
      ],
      "metadata": {
        "id": "lrgUFPQGyld6"
      }
    },
    {
      "cell_type": "markdown",
      "source": [
        "Estruturas condicionais são muito utilizadas em qualquer linguagem de programação.\n",
        "\n",
        "  Essas estruturas são acionadas de acordo com as condições passas , como por exemplo ;\n",
        "\n",
        "   **SE** algo acontecer FAÇA ISSO \n",
        "     **SENÂO** FAÇA AQUILO\n",
        "\n",
        "\n",
        "São os famosos **IF** e **ELSE**"
      ],
      "metadata": {
        "id": "fFdamfGDytDW"
      }
    },
    {
      "cell_type": "code",
      "source": [
        "idade = int(input('qual sua idade:'))\n"
      ],
      "metadata": {
        "colab": {
          "base_uri": "https://localhost:8080/"
        },
        "id": "tNqpbzFvzQML",
        "outputId": "0bb80076-4cf8-4390-8322-3061ba4ceb41"
      },
      "execution_count": 7,
      "outputs": [
        {
          "name": "stdout",
          "output_type": "stream",
          "text": [
            "qual sua idade:28\n"
          ]
        }
      ]
    },
    {
      "cell_type": "code",
      "source": [
        "if idade >=18:\n",
        " print('ja pode ser preso')\n",
        "else: \n",
        "  print('ta no toddy')"
      ],
      "metadata": {
        "colab": {
          "base_uri": "https://localhost:8080/"
        },
        "id": "b-1N4SSTzdrT",
        "outputId": "52169e4b-f940-46e2-d29d-5a8fc62ab421"
      },
      "execution_count": 9,
      "outputs": [
        {
          "output_type": "stream",
          "name": "stdout",
          "text": [
            "ja pode ser preso\n"
          ]
        }
      ]
    },
    {
      "cell_type": "code",
      "source": [],
      "metadata": {
        "id": "zm6RFIBphKgh"
      },
      "execution_count": null,
      "outputs": []
    },
    {
      "cell_type": "code",
      "source": [
        " def vestibular(nota):\n",
        "    if nota >=7: aprovado = True\n",
        "    else: aprovado = False\n",
        "\n",
        "    if nota >= 7 and idade >= 18:\n",
        "      print('aluno foi aprovado?', aprovado)\n",
        "    else: print('refaça o teste', aprovado)\n"
      ],
      "metadata": {
        "id": "jpZa4h75gU6Y"
      },
      "execution_count": 23,
      "outputs": []
    },
    {
      "cell_type": "code",
      "source": [
        "vestibular(10)"
      ],
      "metadata": {
        "colab": {
          "base_uri": "https://localhost:8080/"
        },
        "id": "OPcue3gqgt-B",
        "outputId": "7ee0f228-cb38-46c4-d550-f42e24ab534a"
      },
      "execution_count": 21,
      "outputs": [
        {
          "output_type": "stream",
          "name": "stdout",
          "text": [
            "aluno foi aprovado? True\n"
          ]
        }
      ]
    },
    {
      "cell_type": "markdown",
      "source": [
        "Temos também o **ELIF** , que serve para declaramos uma cadeia de condições."
      ],
      "metadata": {
        "id": "Gn-m_TKGikJd"
      }
    },
    {
      "cell_type": "code",
      "source": [
        " def vestibular(nota):\n",
        "    if nota >=7: aprovado = True\n",
        "    else: aprovado = False\n",
        "\n",
        "    if nota >= 8:\n",
        "      print('aluno foi aprovado com excêlencia', aprovado)\n",
        "    elif nota >= 7:\n",
        "      print('aluno foi aprovado com o minimo', aprovado)\n",
        "    elif nota >= 5:\n",
        "      print('aluno foi reprovado', aprovado)\n",
        "    else: print('refaça o teste que o negocio tá ruim', aprovado)"
      ],
      "metadata": {
        "id": "kLD0RbtmitGt"
      },
      "execution_count": 24,
      "outputs": []
    },
    {
      "cell_type": "code",
      "source": [
        "vestibular(10)"
      ],
      "metadata": {
        "colab": {
          "base_uri": "https://localhost:8080/"
        },
        "id": "Uv1vafVdjboD",
        "outputId": "b4be90c8-03b4-40a6-8a60-9d39581152cb"
      },
      "execution_count": 26,
      "outputs": [
        {
          "output_type": "stream",
          "name": "stdout",
          "text": [
            "aluno foi aprovado com excêlencia True\n"
          ]
        }
      ]
    },
    {
      "cell_type": "markdown",
      "source": [
        "# Estruturas de repetição"
      ],
      "metadata": {
        "id": "zR-xlO2JjvHU"
      }
    },
    {
      "cell_type": "markdown",
      "source": [
        "**WHILE** - O termo **while** significa **enquanto**, ou seja , enquanto isso estiver acontecendo tome determinada ação.\n",
        "\n",
        "  Vamos ao exemplo;\n",
        "\n",
        "  * problema : Estou com fome \n",
        "  * Caso : Enquanto eu estiver com fome \n",
        "  * Ação : Vou comer enquanto ainda ocorrer a fome"
      ],
      "metadata": {
        "id": "6Ivoia4ijzJh"
      }
    },
    {
      "cell_type": "code",
      "source": [
        "a = 10\n",
        "\n",
        "# Enquanto a for menor que 5 printa na tela o item atual\n",
        "while a < 20 :\n",
        "  print(a)\n",
        "\n",
        "# acrescenta ao proximo item de 1 em 1\n",
        "  a += 1 "
      ],
      "metadata": {
        "colab": {
          "base_uri": "https://localhost:8080/"
        },
        "id": "-pkMnJdckrD-",
        "outputId": "b846a03b-119b-4f49-e3fe-4b0d8b5d6048"
      },
      "execution_count": 43,
      "outputs": [
        {
          "output_type": "stream",
          "name": "stdout",
          "text": [
            "10\n",
            "11\n",
            "12\n",
            "13\n",
            "14\n",
            "15\n",
            "16\n",
            "17\n",
            "18\n",
            "19\n"
          ]
        }
      ]
    },
    {
      "cell_type": "markdown",
      "source": [
        "**FOR** - Laços for, diferente do while, percorrem uma lista de itens em particular combinados com a expressão in. Esses laços são muito usados com listas (que veremos mais a frente), mas também com objetos \"range\""
      ],
      "metadata": {
        "id": "BiTLHoEXl94w"
      }
    },
    {
      "cell_type": "code",
      "source": [
        "for a in range(10):\n",
        "  print(a)"
      ],
      "metadata": {
        "colab": {
          "base_uri": "https://localhost:8080/"
        },
        "id": "CpQfy3kgl-7U",
        "outputId": "ac2a98b8-199a-4a64-c4a8-aa5f7ef18963"
      },
      "execution_count": 45,
      "outputs": [
        {
          "output_type": "stream",
          "name": "stdout",
          "text": [
            "0\n",
            "1\n",
            "2\n",
            "3\n",
            "4\n",
            "5\n",
            "6\n",
            "7\n",
            "8\n",
            "9\n"
          ]
        }
      ]
    },
    {
      "cell_type": "code",
      "source": [
        "# começo = 0 (inclusivo)\n",
        "# fim = 5 (não inclusivo)\n",
        "# passo ( quantos em quantos) = 1\n",
        "a = 10\n",
        "for a in range(0, 7, 3):\n",
        "    print(a)"
      ],
      "metadata": {
        "colab": {
          "base_uri": "https://localhost:8080/"
        },
        "id": "xV9AB3momRUB",
        "outputId": "19099d8d-0276-4e73-ddc0-5cf26d162c3d"
      },
      "execution_count": 56,
      "outputs": [
        {
          "output_type": "stream",
          "name": "stdout",
          "text": [
            "0\n",
            "3\n",
            "6\n"
          ]
        }
      ]
    }
  ]
}